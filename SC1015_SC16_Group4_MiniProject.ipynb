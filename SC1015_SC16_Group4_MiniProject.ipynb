{
 "cells": [
  {
   "cell_type": "markdown",
   "metadata": {
    "cell_id": "f3eb327b-55db-49af-bca5-6c1cdb485ba0",
    "deepnote_cell_height": 70,
    "deepnote_cell_type": "markdown",
    "tags": []
   },
   "source": [
    "## Data Cleaning"
   ]
  },
  {
   "cell_type": "code",
   "execution_count": 1,
   "metadata": {
    "cell_id": "00001-22e20555-5562-4634-8c71-3693aa2ae0be",
    "deepnote_cell_height": 333,
    "deepnote_cell_type": "code",
    "deepnote_to_be_reexecuted": false,
    "execution_millis": 2838,
    "execution_start": 1650284367992,
    "source_hash": "76f8bdd",
    "tags": []
   },
   "outputs": [],
   "source": [
    "# Import Basic Libraries\n",
    "\n",
    "import csv\n",
    "import numpy as np\n",
    "import pandas as pd\n",
    "import seaborn as sb\n",
    "import matplotlib.pyplot as plt \n",
    "sb.set() "
   ]
  },
  {
   "cell_type": "code",
   "execution_count": 2,
   "metadata": {
    "cell_id": "00002-c563e595-f4b0-4c9b-bb06-12039d3145d5",
    "deepnote_cell_height": 117,
    "deepnote_cell_type": "code",
    "deepnote_to_be_reexecuted": false,
    "execution_millis": 318,
    "execution_start": 1650284370831,
    "source_hash": "1ee7cbf9",
    "tags": []
   },
   "outputs": [],
   "source": [
    "# Import dataset\n",
    "\n",
    "vgdata = pd.read_csv('Video_Games_Sales_as_at_22_Dec_2016.csv')"
   ]
  },
  {
   "cell_type": "code",
   "execution_count": 3,
   "metadata": {
    "cell_id": "00003-6662f5d3-4a2e-4e9e-abc2-a3aae7a8dff2",
    "deepnote_cell_height": 117,
    "deepnote_cell_type": "code",
    "deepnote_to_be_reexecuted": false,
    "execution_millis": 1,
    "execution_start": 1650284371149,
    "source_hash": "b5e26328",
    "tags": []
   },
   "outputs": [],
   "source": [
    "# Drop unneccessary columns not relevant to our question\n",
    "\n",
    "vgdata = vgdata.drop(columns=['Platform', 'Developer'])"
   ]
  },
  {
   "cell_type": "code",
   "execution_count": 4,
   "metadata": {
    "cell_id": "00004-0da6edf5-a0a9-457f-8da3-9fda6b1e5913",
    "deepnote_cell_height": 422.96875,
    "deepnote_cell_type": "code",
    "deepnote_output_heights": [
     289.96875
    ],
    "deepnote_to_be_reexecuted": false,
    "execution_millis": 201,
    "execution_start": 1650284371150,
    "source_hash": "7a236846",
    "tags": []
   },
   "outputs": [
    {
     "data": {
      "text/plain": [
       "Name                  2\n",
       "Year_of_Release     264\n",
       "Genre                 2\n",
       "Publisher            51\n",
       "NA_Sales              0\n",
       "EU_Sales              0\n",
       "JP_Sales              0\n",
       "Other_Sales           0\n",
       "Global_Sales          0\n",
       "Critic_Score       8463\n",
       "Critic_Count       8463\n",
       "User_Score         9010\n",
       "User_Count         9010\n",
       "Rating             6650\n",
       "dtype: int64"
      ]
     },
     "execution_count": 4,
     "metadata": {},
     "output_type": "execute_result"
    }
   ],
   "source": [
    "# Check for null values in columns\n",
    "\n",
    "vgdata.isnull().sum()"
   ]
  },
  {
   "cell_type": "code",
   "execution_count": 5,
   "metadata": {
    "cell_id": "00005-d1b440bf-136d-41df-9091-23b8bfb653e2",
    "deepnote_cell_height": 117,
    "deepnote_cell_type": "code",
    "deepnote_to_be_reexecuted": false,
    "execution_millis": 0,
    "execution_start": 1650284371152,
    "source_hash": "40c0ee97",
    "tags": []
   },
   "outputs": [],
   "source": [
    "# Remove rows where there are null values for certain column names\n",
    "\n",
    "vgdata = vgdata.dropna(how=\"any\", subset=['Year_of_Release', 'Name', 'Publisher', 'Genre'])"
   ]
  },
  {
   "cell_type": "code",
   "execution_count": 6,
   "metadata": {
    "cell_id": "00006-47e6d094-0d80-446a-84ce-3027729a7969",
    "deepnote_cell_height": 422.96875,
    "deepnote_cell_type": "code",
    "deepnote_output_heights": [
     289.96875
    ],
    "deepnote_to_be_reexecuted": false,
    "execution_millis": 199,
    "execution_start": 1650284371152,
    "source_hash": "7d5e898e",
    "tags": []
   },
   "outputs": [
    {
     "data": {
      "text/plain": [
       "Name                  0\n",
       "Year_of_Release       0\n",
       "Genre                 0\n",
       "Publisher             0\n",
       "NA_Sales              0\n",
       "EU_Sales              0\n",
       "JP_Sales              0\n",
       "Other_Sales           0\n",
       "Global_Sales          0\n",
       "Critic_Score       8320\n",
       "Critic_Count       8320\n",
       "User_Score         8841\n",
       "User_Count         8841\n",
       "Rating             6535\n",
       "dtype: int64"
      ]
     },
     "execution_count": 6,
     "metadata": {},
     "output_type": "execute_result"
    }
   ],
   "source": [
    "# Check if null values are dropped\n",
    "\n",
    "vgdata.isnull().sum()"
   ]
  },
  {
   "cell_type": "code",
   "execution_count": 7,
   "metadata": {
    "cell_id": "00007-32ed1069-cc62-449b-9a22-c7d5460bbcc2",
    "deepnote_cell_height": 117,
    "deepnote_cell_type": "code",
    "deepnote_to_be_reexecuted": false,
    "execution_millis": 1,
    "execution_start": 1650284371153,
    "source_hash": "d72f8955",
    "tags": []
   },
   "outputs": [],
   "source": [
    "# Remove leading and tailing whitespace for 'Name' \n",
    "\n",
    "vgdata['Name'] = vgdata['Name'].str.strip()"
   ]
  },
  {
   "cell_type": "code",
   "execution_count": 8,
   "metadata": {
    "allow_embed": "code_output",
    "cell_id": "00008-2107042a-98c7-45ee-aac7-c53549d3d185",
    "deepnote_cell_height": 670.65625,
    "deepnote_cell_type": "code",
    "deepnote_to_be_reexecuted": false,
    "execution_millis": 212,
    "execution_start": 1650284371154,
    "source_hash": "c2a156c4",
    "tags": []
   },
   "outputs": [
    {
     "data": {
      "text/html": [
       "<div>\n",
       "<style scoped>\n",
       "    .dataframe tbody tr th:only-of-type {\n",
       "        vertical-align: middle;\n",
       "    }\n",
       "\n",
       "    .dataframe tbody tr th {\n",
       "        vertical-align: top;\n",
       "    }\n",
       "\n",
       "    .dataframe thead th {\n",
       "        text-align: right;\n",
       "    }\n",
       "</style>\n",
       "<table border=\"1\" class=\"dataframe\">\n",
       "  <thead>\n",
       "    <tr style=\"text-align: right;\">\n",
       "      <th></th>\n",
       "      <th>Name</th>\n",
       "      <th>Year_of_Release</th>\n",
       "      <th>Genre</th>\n",
       "      <th>Publisher</th>\n",
       "      <th>NA_Sales</th>\n",
       "      <th>EU_Sales</th>\n",
       "      <th>JP_Sales</th>\n",
       "      <th>Other_Sales</th>\n",
       "      <th>Global_Sales</th>\n",
       "      <th>Critic_Score</th>\n",
       "      <th>Critic_Count</th>\n",
       "      <th>User_Score</th>\n",
       "      <th>Rating</th>\n",
       "    </tr>\n",
       "  </thead>\n",
       "  <tbody>\n",
       "    <tr>\n",
       "      <th>0</th>\n",
       "      <td>'98 Koshien</td>\n",
       "      <td>1998.0</td>\n",
       "      <td>Sports</td>\n",
       "      <td>Magical Company</td>\n",
       "      <td>0.15</td>\n",
       "      <td>0.10</td>\n",
       "      <td>0.12</td>\n",
       "      <td>0.03</td>\n",
       "      <td>0.41</td>\n",
       "      <td>NaN</td>\n",
       "      <td>NaN</td>\n",
       "      <td>NaN</td>\n",
       "      <td>None</td>\n",
       "    </tr>\n",
       "    <tr>\n",
       "      <th>1</th>\n",
       "      <td>.hack//G.U. Vol.1//Rebirth</td>\n",
       "      <td>2006.0</td>\n",
       "      <td>Role-Playing</td>\n",
       "      <td>Namco Bandai Games</td>\n",
       "      <td>0.00</td>\n",
       "      <td>0.00</td>\n",
       "      <td>0.17</td>\n",
       "      <td>0.00</td>\n",
       "      <td>0.17</td>\n",
       "      <td>NaN</td>\n",
       "      <td>NaN</td>\n",
       "      <td>NaN</td>\n",
       "      <td>None</td>\n",
       "    </tr>\n",
       "    <tr>\n",
       "      <th>2</th>\n",
       "      <td>.hack//G.U. Vol.2//Reminisce</td>\n",
       "      <td>2006.0</td>\n",
       "      <td>Role-Playing</td>\n",
       "      <td>Namco Bandai Games</td>\n",
       "      <td>0.11</td>\n",
       "      <td>0.09</td>\n",
       "      <td>0.16</td>\n",
       "      <td>0.03</td>\n",
       "      <td>0.39</td>\n",
       "      <td>NaN</td>\n",
       "      <td>NaN</td>\n",
       "      <td>NaN</td>\n",
       "      <td>None</td>\n",
       "    </tr>\n",
       "    <tr>\n",
       "      <th>3</th>\n",
       "      <td>.hack//G.U. Vol.3//Redemption</td>\n",
       "      <td>2007.0</td>\n",
       "      <td>Role-Playing</td>\n",
       "      <td>Namco Bandai Games</td>\n",
       "      <td>0.00</td>\n",
       "      <td>0.00</td>\n",
       "      <td>0.17</td>\n",
       "      <td>0.00</td>\n",
       "      <td>0.17</td>\n",
       "      <td>NaN</td>\n",
       "      <td>NaN</td>\n",
       "      <td>NaN</td>\n",
       "      <td>None</td>\n",
       "    </tr>\n",
       "    <tr>\n",
       "      <th>4</th>\n",
       "      <td>.hack//Infection Part 1</td>\n",
       "      <td>2002.0</td>\n",
       "      <td>Role-Playing</td>\n",
       "      <td>Atari</td>\n",
       "      <td>0.49</td>\n",
       "      <td>0.38</td>\n",
       "      <td>0.26</td>\n",
       "      <td>0.13</td>\n",
       "      <td>1.27</td>\n",
       "      <td>75.0</td>\n",
       "      <td>35.0</td>\n",
       "      <td>8.5</td>\n",
       "      <td>T</td>\n",
       "    </tr>\n",
       "  </tbody>\n",
       "</table>\n",
       "</div>"
      ],
      "text/plain": [
       "                            Name  Year_of_Release         Genre  \\\n",
       "0                    '98 Koshien           1998.0        Sports   \n",
       "1     .hack//G.U. Vol.1//Rebirth           2006.0  Role-Playing   \n",
       "2   .hack//G.U. Vol.2//Reminisce           2006.0  Role-Playing   \n",
       "3  .hack//G.U. Vol.3//Redemption           2007.0  Role-Playing   \n",
       "4        .hack//Infection Part 1           2002.0  Role-Playing   \n",
       "\n",
       "            Publisher  NA_Sales  EU_Sales  JP_Sales  Other_Sales  \\\n",
       "0     Magical Company      0.15      0.10      0.12         0.03   \n",
       "1  Namco Bandai Games      0.00      0.00      0.17         0.00   \n",
       "2  Namco Bandai Games      0.11      0.09      0.16         0.03   \n",
       "3  Namco Bandai Games      0.00      0.00      0.17         0.00   \n",
       "4               Atari      0.49      0.38      0.26         0.13   \n",
       "\n",
       "   Global_Sales  Critic_Score  Critic_Count  User_Score Rating  \n",
       "0          0.41           NaN           NaN         NaN   None  \n",
       "1          0.17           NaN           NaN         NaN   None  \n",
       "2          0.39           NaN           NaN         NaN   None  \n",
       "3          0.17           NaN           NaN         NaN   None  \n",
       "4          1.27          75.0          35.0         8.5      T  "
      ]
     },
     "execution_count": 8,
     "metadata": {},
     "output_type": "execute_result"
    }
   ],
   "source": [
    "# Group the games with the same name together (combine same game on different platforms)\n",
    "\n",
    "vgdata = vgdata.groupby('Name').agg({'Year_of_Release':'first', 'Genre':'first', 'Publisher':'first', 'NA_Sales':'sum', 'EU_Sales':'sum', 'JP_Sales':'sum', 'Other_Sales':'sum', 'Global_Sales':'sum', 'Critic_Score':'mean', 'Critic_Count':'mean', 'User_Score':'mean', 'Rating':'first'}).reset_index()\n",
    "vgdata.head()"
   ]
  },
  {
   "cell_type": "code",
   "execution_count": 9,
   "metadata": {
    "cell_id": "00009-eaa0d7e6-23f5-49d4-9a3e-436532318123",
    "deepnote_cell_height": 367.75,
    "deepnote_cell_type": "code",
    "deepnote_output_heights": [
     270.765625
    ],
    "deepnote_to_be_reexecuted": false,
    "execution_millis": 212,
    "execution_start": 1650284371155,
    "source_hash": "5b6d1866",
    "tags": []
   },
   "outputs": [
    {
     "data": {
      "text/plain": [
       "Name                  0\n",
       "Year_of_Release       0\n",
       "Genre                 0\n",
       "Publisher             0\n",
       "NA_Sales              0\n",
       "EU_Sales              0\n",
       "JP_Sales              0\n",
       "Other_Sales           0\n",
       "Global_Sales          0\n",
       "Critic_Score       6244\n",
       "Critic_Count       6244\n",
       "User_Score         6626\n",
       "Rating             5279\n",
       "dtype: int64"
      ]
     },
     "execution_count": 9,
     "metadata": {},
     "output_type": "execute_result"
    }
   ],
   "source": [
    "vgdata.isnull().sum()"
   ]
  },
  {
   "cell_type": "code",
   "execution_count": 10,
   "metadata": {
    "cell_id": "00010-53851f2c-ce51-4741-885a-d36febb745ea",
    "deepnote_cell_height": 117,
    "deepnote_cell_type": "code",
    "deepnote_to_be_reexecuted": false,
    "execution_millis": 1,
    "execution_start": 1650284371156,
    "source_hash": "d7aa1414",
    "tags": []
   },
   "outputs": [],
   "source": [
    "# Remove rows where there are null values\n",
    "\n",
    "vgdata = vgdata.dropna(how='any', subset=['Critic_Score', 'Critic_Count', 'User_Score', 'Rating'])"
   ]
  },
  {
   "cell_type": "code",
   "execution_count": 11,
   "metadata": {
    "cell_id": "00011-56e798a1-f31b-4986-a2a5-5c0a806c87f6",
    "deepnote_cell_height": 706.65625,
    "deepnote_cell_type": "code",
    "deepnote_to_be_reexecuted": false,
    "execution_millis": 218,
    "execution_start": 1650284371157,
    "source_hash": "847037ea",
    "tags": []
   },
   "outputs": [
    {
     "data": {
      "text/html": [
       "<div>\n",
       "<style scoped>\n",
       "    .dataframe tbody tr th:only-of-type {\n",
       "        vertical-align: middle;\n",
       "    }\n",
       "\n",
       "    .dataframe tbody tr th {\n",
       "        vertical-align: top;\n",
       "    }\n",
       "\n",
       "    .dataframe thead th {\n",
       "        text-align: right;\n",
       "    }\n",
       "</style>\n",
       "<table border=\"1\" class=\"dataframe\">\n",
       "  <thead>\n",
       "    <tr style=\"text-align: right;\">\n",
       "      <th></th>\n",
       "      <th>Name</th>\n",
       "      <th>Year_of_Release</th>\n",
       "      <th>Genre</th>\n",
       "      <th>Publisher</th>\n",
       "      <th>NA_Sales</th>\n",
       "      <th>EU_Sales</th>\n",
       "      <th>JP_Sales</th>\n",
       "      <th>Other_Sales</th>\n",
       "      <th>Global_Sales</th>\n",
       "      <th>Critic_Score</th>\n",
       "      <th>Critic_Count</th>\n",
       "      <th>User_Score</th>\n",
       "      <th>Rating</th>\n",
       "      <th>1st_word</th>\n",
       "      <th>2nd_word</th>\n",
       "    </tr>\n",
       "  </thead>\n",
       "  <tbody>\n",
       "    <tr>\n",
       "      <th>4</th>\n",
       "      <td>.hack//Infection Part 1</td>\n",
       "      <td>2002.0</td>\n",
       "      <td>Role-Playing</td>\n",
       "      <td>Atari</td>\n",
       "      <td>0.49</td>\n",
       "      <td>0.38</td>\n",
       "      <td>0.26</td>\n",
       "      <td>0.13</td>\n",
       "      <td>1.27</td>\n",
       "      <td>75.0</td>\n",
       "      <td>35.0</td>\n",
       "      <td>8.500</td>\n",
       "      <td>T</td>\n",
       "      <td>.hack//Infection</td>\n",
       "      <td>Part</td>\n",
       "    </tr>\n",
       "    <tr>\n",
       "      <th>6</th>\n",
       "      <td>.hack//Mutation Part 2</td>\n",
       "      <td>2002.0</td>\n",
       "      <td>Role-Playing</td>\n",
       "      <td>Atari</td>\n",
       "      <td>0.23</td>\n",
       "      <td>0.18</td>\n",
       "      <td>0.20</td>\n",
       "      <td>0.06</td>\n",
       "      <td>0.68</td>\n",
       "      <td>76.0</td>\n",
       "      <td>24.0</td>\n",
       "      <td>8.900</td>\n",
       "      <td>T</td>\n",
       "      <td>.hack//Mutation</td>\n",
       "      <td>Part</td>\n",
       "    </tr>\n",
       "    <tr>\n",
       "      <th>7</th>\n",
       "      <td>.hack//Outbreak Part 3</td>\n",
       "      <td>2002.0</td>\n",
       "      <td>Role-Playing</td>\n",
       "      <td>Atari</td>\n",
       "      <td>0.14</td>\n",
       "      <td>0.11</td>\n",
       "      <td>0.17</td>\n",
       "      <td>0.04</td>\n",
       "      <td>0.46</td>\n",
       "      <td>70.0</td>\n",
       "      <td>23.0</td>\n",
       "      <td>8.700</td>\n",
       "      <td>T</td>\n",
       "      <td>.hack//Outbreak</td>\n",
       "      <td>Part</td>\n",
       "    </tr>\n",
       "    <tr>\n",
       "      <th>10</th>\n",
       "      <td>007 Racing</td>\n",
       "      <td>2000.0</td>\n",
       "      <td>Racing</td>\n",
       "      <td>Electronic Arts</td>\n",
       "      <td>0.30</td>\n",
       "      <td>0.20</td>\n",
       "      <td>0.00</td>\n",
       "      <td>0.03</td>\n",
       "      <td>0.53</td>\n",
       "      <td>51.0</td>\n",
       "      <td>16.0</td>\n",
       "      <td>4.600</td>\n",
       "      <td>T</td>\n",
       "      <td>007</td>\n",
       "      <td>Racing</td>\n",
       "    </tr>\n",
       "    <tr>\n",
       "      <th>11</th>\n",
       "      <td>007: Quantum of Solace</td>\n",
       "      <td>2008.0</td>\n",
       "      <td>Action</td>\n",
       "      <td>Activision</td>\n",
       "      <td>1.83</td>\n",
       "      <td>1.32</td>\n",
       "      <td>0.04</td>\n",
       "      <td>0.67</td>\n",
       "      <td>3.86</td>\n",
       "      <td>63.8</td>\n",
       "      <td>30.0</td>\n",
       "      <td>6.875</td>\n",
       "      <td>T</td>\n",
       "      <td>007:</td>\n",
       "      <td>Quantum</td>\n",
       "    </tr>\n",
       "  </tbody>\n",
       "</table>\n",
       "</div>"
      ],
      "text/plain": [
       "                       Name  Year_of_Release         Genre        Publisher  \\\n",
       "4   .hack//Infection Part 1           2002.0  Role-Playing            Atari   \n",
       "6    .hack//Mutation Part 2           2002.0  Role-Playing            Atari   \n",
       "7    .hack//Outbreak Part 3           2002.0  Role-Playing            Atari   \n",
       "10               007 Racing           2000.0        Racing  Electronic Arts   \n",
       "11   007: Quantum of Solace           2008.0        Action       Activision   \n",
       "\n",
       "    NA_Sales  EU_Sales  JP_Sales  Other_Sales  Global_Sales  Critic_Score  \\\n",
       "4       0.49      0.38      0.26         0.13          1.27          75.0   \n",
       "6       0.23      0.18      0.20         0.06          0.68          76.0   \n",
       "7       0.14      0.11      0.17         0.04          0.46          70.0   \n",
       "10      0.30      0.20      0.00         0.03          0.53          51.0   \n",
       "11      1.83      1.32      0.04         0.67          3.86          63.8   \n",
       "\n",
       "    Critic_Count  User_Score Rating          1st_word 2nd_word  \n",
       "4           35.0       8.500      T  .hack//Infection     Part  \n",
       "6           24.0       8.900      T   .hack//Mutation     Part  \n",
       "7           23.0       8.700      T   .hack//Outbreak     Part  \n",
       "10          16.0       4.600      T               007   Racing  \n",
       "11          30.0       6.875      T              007:  Quantum  "
      ]
     },
     "execution_count": 11,
     "metadata": {},
     "output_type": "execute_result"
    }
   ],
   "source": [
    "# Create new columns with 1st and 2nd words of Name\n",
    "\n",
    "vgdata['1st_word'] = vgdata['Name'].str.split(' ').str[0]\n",
    "vgdata['2nd_word'] = vgdata['Name'].str.split(' ').str[1]\n",
    "\n",
    "vgdata.head()"
   ]
  },
  {
   "cell_type": "code",
   "execution_count": 12,
   "metadata": {
    "cell_id": "00012-e32383cf-f21d-4f03-be72-d3d442f7a9b5",
    "deepnote_cell_height": 724.65625,
    "deepnote_cell_type": "code",
    "deepnote_to_be_reexecuted": false,
    "execution_millis": 113,
    "execution_start": 1650284371264,
    "source_hash": "ff789200",
    "tags": []
   },
   "outputs": [
    {
     "data": {
      "text/html": [
       "<div>\n",
       "<style scoped>\n",
       "    .dataframe tbody tr th:only-of-type {\n",
       "        vertical-align: middle;\n",
       "    }\n",
       "\n",
       "    .dataframe tbody tr th {\n",
       "        vertical-align: top;\n",
       "    }\n",
       "\n",
       "    .dataframe thead th {\n",
       "        text-align: right;\n",
       "    }\n",
       "</style>\n",
       "<table border=\"1\" class=\"dataframe\">\n",
       "  <thead>\n",
       "    <tr style=\"text-align: right;\">\n",
       "      <th></th>\n",
       "      <th>Name</th>\n",
       "      <th>Year_of_Release</th>\n",
       "      <th>Genre</th>\n",
       "      <th>Publisher</th>\n",
       "      <th>NA_Sales</th>\n",
       "      <th>EU_Sales</th>\n",
       "      <th>JP_Sales</th>\n",
       "      <th>Other_Sales</th>\n",
       "      <th>Global_Sales</th>\n",
       "      <th>Critic_Score</th>\n",
       "      <th>Critic_Count</th>\n",
       "      <th>User_Score</th>\n",
       "      <th>Rating</th>\n",
       "      <th>1st_word</th>\n",
       "      <th>2nd_word</th>\n",
       "    </tr>\n",
       "  </thead>\n",
       "  <tbody>\n",
       "    <tr>\n",
       "      <th>4</th>\n",
       "      <td>.hack//Infection Part 1</td>\n",
       "      <td>2002.0</td>\n",
       "      <td>Role-Playing</td>\n",
       "      <td>Atari</td>\n",
       "      <td>0.49</td>\n",
       "      <td>0.38</td>\n",
       "      <td>0.26</td>\n",
       "      <td>0.13</td>\n",
       "      <td>1.27</td>\n",
       "      <td>75.0</td>\n",
       "      <td>35.0</td>\n",
       "      <td>8.500</td>\n",
       "      <td>T</td>\n",
       "      <td>.hack//Infection</td>\n",
       "      <td>Part</td>\n",
       "    </tr>\n",
       "    <tr>\n",
       "      <th>6</th>\n",
       "      <td>.hack//Mutation Part 2</td>\n",
       "      <td>2002.0</td>\n",
       "      <td>Role-Playing</td>\n",
       "      <td>Atari</td>\n",
       "      <td>0.23</td>\n",
       "      <td>0.18</td>\n",
       "      <td>0.20</td>\n",
       "      <td>0.06</td>\n",
       "      <td>0.68</td>\n",
       "      <td>76.0</td>\n",
       "      <td>24.0</td>\n",
       "      <td>8.900</td>\n",
       "      <td>T</td>\n",
       "      <td>.hack//Mutation</td>\n",
       "      <td>Part</td>\n",
       "    </tr>\n",
       "    <tr>\n",
       "      <th>7</th>\n",
       "      <td>.hack//Outbreak Part 3</td>\n",
       "      <td>2002.0</td>\n",
       "      <td>Role-Playing</td>\n",
       "      <td>Atari</td>\n",
       "      <td>0.14</td>\n",
       "      <td>0.11</td>\n",
       "      <td>0.17</td>\n",
       "      <td>0.04</td>\n",
       "      <td>0.46</td>\n",
       "      <td>70.0</td>\n",
       "      <td>23.0</td>\n",
       "      <td>8.700</td>\n",
       "      <td>T</td>\n",
       "      <td>.hack//Outbreak</td>\n",
       "      <td>Part</td>\n",
       "    </tr>\n",
       "    <tr>\n",
       "      <th>10</th>\n",
       "      <td>007 Racing</td>\n",
       "      <td>2000.0</td>\n",
       "      <td>Racing</td>\n",
       "      <td>Electronic Arts</td>\n",
       "      <td>0.30</td>\n",
       "      <td>0.20</td>\n",
       "      <td>0.00</td>\n",
       "      <td>0.03</td>\n",
       "      <td>0.53</td>\n",
       "      <td>51.0</td>\n",
       "      <td>16.0</td>\n",
       "      <td>4.600</td>\n",
       "      <td>T</td>\n",
       "      <td>007</td>\n",
       "      <td>Racing</td>\n",
       "    </tr>\n",
       "    <tr>\n",
       "      <th>11</th>\n",
       "      <td>007: Quantum of Solace</td>\n",
       "      <td>2008.0</td>\n",
       "      <td>Action</td>\n",
       "      <td>Activision</td>\n",
       "      <td>1.83</td>\n",
       "      <td>1.32</td>\n",
       "      <td>0.04</td>\n",
       "      <td>0.67</td>\n",
       "      <td>3.86</td>\n",
       "      <td>63.8</td>\n",
       "      <td>30.0</td>\n",
       "      <td>6.875</td>\n",
       "      <td>T</td>\n",
       "      <td>007:</td>\n",
       "      <td>Quantum</td>\n",
       "    </tr>\n",
       "  </tbody>\n",
       "</table>\n",
       "</div>"
      ],
      "text/plain": [
       "                       Name  Year_of_Release         Genre        Publisher  \\\n",
       "4   .hack//Infection Part 1           2002.0  Role-Playing            Atari   \n",
       "6    .hack//Mutation Part 2           2002.0  Role-Playing            Atari   \n",
       "7    .hack//Outbreak Part 3           2002.0  Role-Playing            Atari   \n",
       "10               007 Racing           2000.0        Racing  Electronic Arts   \n",
       "11   007: Quantum of Solace           2008.0        Action       Activision   \n",
       "\n",
       "    NA_Sales  EU_Sales  JP_Sales  Other_Sales  Global_Sales  Critic_Score  \\\n",
       "4       0.49      0.38      0.26         0.13          1.27          75.0   \n",
       "6       0.23      0.18      0.20         0.06          0.68          76.0   \n",
       "7       0.14      0.11      0.17         0.04          0.46          70.0   \n",
       "10      0.30      0.20      0.00         0.03          0.53          51.0   \n",
       "11      1.83      1.32      0.04         0.67          3.86          63.8   \n",
       "\n",
       "    Critic_Count  User_Score Rating          1st_word 2nd_word  \n",
       "4           35.0       8.500      T  .hack//Infection     Part  \n",
       "6           24.0       8.900      T   .hack//Mutation     Part  \n",
       "7           23.0       8.700      T   .hack//Outbreak     Part  \n",
       "10          16.0       4.600      T               007   Racing  \n",
       "11          30.0       6.875      T              007:  Quantum  "
      ]
     },
     "execution_count": 12,
     "metadata": {},
     "output_type": "execute_result"
    }
   ],
   "source": [
    "# For games that start with 'The', 'A' and 'My', replace 1st_word with 2nd_word\n",
    "\n",
    "vgdata.loc[vgdata['1st_word'] == 'The', '1st_word'] = vgdata['2nd_word']\n",
    "vgdata.loc[vgdata['1st_word'] == 'A', '1st_word'] = vgdata['2nd_word']\n",
    "vgdata.loc[vgdata['1st_word'] == 'My', '1st_word'] = vgdata['2nd_word']\n",
    "\n",
    "vgdata.head()"
   ]
  },
  {
   "cell_type": "code",
   "execution_count": 13,
   "metadata": {
    "cell_id": "00013-13eea10a-dce5-421b-af07-7d401a5eaf68",
    "deepnote_cell_height": 117,
    "deepnote_cell_type": "code",
    "deepnote_to_be_reexecuted": false,
    "execution_millis": 7,
    "execution_start": 1650284371352,
    "source_hash": "579c7b7",
    "tags": []
   },
   "outputs": [],
   "source": [
    "# Drop 2nd_word column\n",
    "\n",
    "vgdata = vgdata.drop(columns=['2nd_word'])"
   ]
  },
  {
   "cell_type": "code",
   "execution_count": 14,
   "metadata": {
    "cell_id": "00014-f64e0cb5-6b95-476a-8273-6cdf5c71ae3a",
    "deepnote_cell_height": 688.65625,
    "deepnote_cell_type": "code",
    "deepnote_to_be_reexecuted": false,
    "execution_millis": 89,
    "execution_start": 1650284371360,
    "source_hash": "d39fe5c6",
    "tags": []
   },
   "outputs": [
    {
     "data": {
      "text/html": [
       "<div>\n",
       "<style scoped>\n",
       "    .dataframe tbody tr th:only-of-type {\n",
       "        vertical-align: middle;\n",
       "    }\n",
       "\n",
       "    .dataframe tbody tr th {\n",
       "        vertical-align: top;\n",
       "    }\n",
       "\n",
       "    .dataframe thead th {\n",
       "        text-align: right;\n",
       "    }\n",
       "</style>\n",
       "<table border=\"1\" class=\"dataframe\">\n",
       "  <thead>\n",
       "    <tr style=\"text-align: right;\">\n",
       "      <th></th>\n",
       "      <th>Name</th>\n",
       "      <th>Year_of_Release</th>\n",
       "      <th>Genre</th>\n",
       "      <th>Publisher</th>\n",
       "      <th>NA_Sales</th>\n",
       "      <th>EU_Sales</th>\n",
       "      <th>JP_Sales</th>\n",
       "      <th>Other_Sales</th>\n",
       "      <th>Global_Sales</th>\n",
       "      <th>Critic_Score</th>\n",
       "      <th>Critic_Count</th>\n",
       "      <th>User_Score</th>\n",
       "      <th>Rating</th>\n",
       "      <th>1st_word</th>\n",
       "    </tr>\n",
       "  </thead>\n",
       "  <tbody>\n",
       "    <tr>\n",
       "      <th>7161</th>\n",
       "      <td>Pirates: Legend of the Black Buccaneer</td>\n",
       "      <td>2006.0</td>\n",
       "      <td>Adventure</td>\n",
       "      <td>10TACLE Studios</td>\n",
       "      <td>0.01</td>\n",
       "      <td>0.01</td>\n",
       "      <td>0.0</td>\n",
       "      <td>0.00</td>\n",
       "      <td>0.02</td>\n",
       "      <td>42.0</td>\n",
       "      <td>4.0</td>\n",
       "      <td>7.0</td>\n",
       "      <td>T</td>\n",
       "      <td>Pirates:</td>\n",
       "    </tr>\n",
       "    <tr>\n",
       "      <th>4858</th>\n",
       "      <td>King's Bounty: Armored Princess</td>\n",
       "      <td>2009.0</td>\n",
       "      <td>Role-Playing</td>\n",
       "      <td>1C Company</td>\n",
       "      <td>0.00</td>\n",
       "      <td>0.01</td>\n",
       "      <td>0.0</td>\n",
       "      <td>0.00</td>\n",
       "      <td>0.01</td>\n",
       "      <td>82.0</td>\n",
       "      <td>25.0</td>\n",
       "      <td>8.6</td>\n",
       "      <td>T</td>\n",
       "      <td>King's</td>\n",
       "    </tr>\n",
       "    <tr>\n",
       "      <th>5717</th>\n",
       "      <td>Men of War: Assault Squad</td>\n",
       "      <td>2011.0</td>\n",
       "      <td>Strategy</td>\n",
       "      <td>1C Company</td>\n",
       "      <td>0.01</td>\n",
       "      <td>0.03</td>\n",
       "      <td>0.0</td>\n",
       "      <td>0.01</td>\n",
       "      <td>0.05</td>\n",
       "      <td>77.0</td>\n",
       "      <td>21.0</td>\n",
       "      <td>8.2</td>\n",
       "      <td>T</td>\n",
       "      <td>Men</td>\n",
       "    </tr>\n",
       "    <tr>\n",
       "      <th>10969</th>\n",
       "      <td>World of Goo</td>\n",
       "      <td>2008.0</td>\n",
       "      <td>Puzzle</td>\n",
       "      <td>2D Boy</td>\n",
       "      <td>0.00</td>\n",
       "      <td>0.03</td>\n",
       "      <td>0.0</td>\n",
       "      <td>0.01</td>\n",
       "      <td>0.04</td>\n",
       "      <td>90.0</td>\n",
       "      <td>26.0</td>\n",
       "      <td>8.5</td>\n",
       "      <td>E</td>\n",
       "      <td>World</td>\n",
       "    </tr>\n",
       "    <tr>\n",
       "      <th>451</th>\n",
       "      <td>Army Men: Air Attack 2</td>\n",
       "      <td>2000.0</td>\n",
       "      <td>Action</td>\n",
       "      <td>3DO</td>\n",
       "      <td>0.17</td>\n",
       "      <td>0.11</td>\n",
       "      <td>0.0</td>\n",
       "      <td>0.02</td>\n",
       "      <td>0.30</td>\n",
       "      <td>74.0</td>\n",
       "      <td>8.0</td>\n",
       "      <td>5.3</td>\n",
       "      <td>T</td>\n",
       "      <td>Army</td>\n",
       "    </tr>\n",
       "  </tbody>\n",
       "</table>\n",
       "</div>"
      ],
      "text/plain": [
       "                                         Name  Year_of_Release         Genre  \\\n",
       "7161   Pirates: Legend of the Black Buccaneer           2006.0     Adventure   \n",
       "4858          King's Bounty: Armored Princess           2009.0  Role-Playing   \n",
       "5717                Men of War: Assault Squad           2011.0      Strategy   \n",
       "10969                            World of Goo           2008.0        Puzzle   \n",
       "451                    Army Men: Air Attack 2           2000.0        Action   \n",
       "\n",
       "             Publisher  NA_Sales  EU_Sales  JP_Sales  Other_Sales  \\\n",
       "7161   10TACLE Studios      0.01      0.01       0.0         0.00   \n",
       "4858        1C Company      0.00      0.01       0.0         0.00   \n",
       "5717        1C Company      0.01      0.03       0.0         0.01   \n",
       "10969           2D Boy      0.00      0.03       0.0         0.01   \n",
       "451                3DO      0.17      0.11       0.0         0.02   \n",
       "\n",
       "       Global_Sales  Critic_Score  Critic_Count  User_Score Rating  1st_word  \n",
       "7161           0.02          42.0           4.0         7.0      T  Pirates:  \n",
       "4858           0.01          82.0          25.0         8.6      T    King's  \n",
       "5717           0.05          77.0          21.0         8.2      T       Men  \n",
       "10969          0.04          90.0          26.0         8.5      E     World  \n",
       "451            0.30          74.0           8.0         5.3      T      Army  "
      ]
     },
     "execution_count": 14,
     "metadata": {},
     "output_type": "execute_result"
    }
   ],
   "source": [
    "# Sort by Publisher, then by 1st_word\n",
    "\n",
    "vgdata = vgdata.sort_values(['Publisher', '1st_word'], ascending=[True, True])\n",
    "\n",
    "vgdata.head()"
   ]
  },
  {
   "cell_type": "code",
   "execution_count": 15,
   "metadata": {
    "cell_id": "00015-5acf384f-b9ae-4ad9-a853-6416879395da",
    "deepnote_cell_height": 706.65625,
    "deepnote_cell_type": "code",
    "deepnote_to_be_reexecuted": false,
    "execution_millis": 134,
    "execution_start": 1650284371452,
    "source_hash": "4bf6322c",
    "tags": []
   },
   "outputs": [
    {
     "data": {
      "text/html": [
       "<div>\n",
       "<style scoped>\n",
       "    .dataframe tbody tr th:only-of-type {\n",
       "        vertical-align: middle;\n",
       "    }\n",
       "\n",
       "    .dataframe tbody tr th {\n",
       "        vertical-align: top;\n",
       "    }\n",
       "\n",
       "    .dataframe thead th {\n",
       "        text-align: right;\n",
       "    }\n",
       "</style>\n",
       "<table border=\"1\" class=\"dataframe\">\n",
       "  <thead>\n",
       "    <tr style=\"text-align: right;\">\n",
       "      <th></th>\n",
       "      <th>Name</th>\n",
       "      <th>Year_of_Release</th>\n",
       "      <th>Genre</th>\n",
       "      <th>Publisher</th>\n",
       "      <th>NA_Sales</th>\n",
       "      <th>EU_Sales</th>\n",
       "      <th>JP_Sales</th>\n",
       "      <th>Other_Sales</th>\n",
       "      <th>Global_Sales</th>\n",
       "      <th>Critic_Score</th>\n",
       "      <th>Critic_Count</th>\n",
       "      <th>User_Score</th>\n",
       "      <th>Rating</th>\n",
       "      <th>1st_word</th>\n",
       "      <th>1st_wordcopy</th>\n",
       "      <th>1st_wordcopy2</th>\n",
       "    </tr>\n",
       "  </thead>\n",
       "  <tbody>\n",
       "    <tr>\n",
       "      <th>7161</th>\n",
       "      <td>Pirates: Legend of the Black Buccaneer</td>\n",
       "      <td>2006.0</td>\n",
       "      <td>Adventure</td>\n",
       "      <td>10TACLE Studios</td>\n",
       "      <td>0.01</td>\n",
       "      <td>0.01</td>\n",
       "      <td>0.0</td>\n",
       "      <td>0.00</td>\n",
       "      <td>0.02</td>\n",
       "      <td>42.0</td>\n",
       "      <td>4.0</td>\n",
       "      <td>7.0</td>\n",
       "      <td>T</td>\n",
       "      <td>Pirates:</td>\n",
       "      <td>King's</td>\n",
       "      <td>NaN</td>\n",
       "    </tr>\n",
       "    <tr>\n",
       "      <th>4858</th>\n",
       "      <td>King's Bounty: Armored Princess</td>\n",
       "      <td>2009.0</td>\n",
       "      <td>Role-Playing</td>\n",
       "      <td>1C Company</td>\n",
       "      <td>0.00</td>\n",
       "      <td>0.01</td>\n",
       "      <td>0.0</td>\n",
       "      <td>0.00</td>\n",
       "      <td>0.01</td>\n",
       "      <td>82.0</td>\n",
       "      <td>25.0</td>\n",
       "      <td>8.6</td>\n",
       "      <td>T</td>\n",
       "      <td>King's</td>\n",
       "      <td>Men</td>\n",
       "      <td>Pirates:</td>\n",
       "    </tr>\n",
       "    <tr>\n",
       "      <th>5717</th>\n",
       "      <td>Men of War: Assault Squad</td>\n",
       "      <td>2011.0</td>\n",
       "      <td>Strategy</td>\n",
       "      <td>1C Company</td>\n",
       "      <td>0.01</td>\n",
       "      <td>0.03</td>\n",
       "      <td>0.0</td>\n",
       "      <td>0.01</td>\n",
       "      <td>0.05</td>\n",
       "      <td>77.0</td>\n",
       "      <td>21.0</td>\n",
       "      <td>8.2</td>\n",
       "      <td>T</td>\n",
       "      <td>Men</td>\n",
       "      <td>World</td>\n",
       "      <td>King's</td>\n",
       "    </tr>\n",
       "    <tr>\n",
       "      <th>10969</th>\n",
       "      <td>World of Goo</td>\n",
       "      <td>2008.0</td>\n",
       "      <td>Puzzle</td>\n",
       "      <td>2D Boy</td>\n",
       "      <td>0.00</td>\n",
       "      <td>0.03</td>\n",
       "      <td>0.0</td>\n",
       "      <td>0.01</td>\n",
       "      <td>0.04</td>\n",
       "      <td>90.0</td>\n",
       "      <td>26.0</td>\n",
       "      <td>8.5</td>\n",
       "      <td>E</td>\n",
       "      <td>World</td>\n",
       "      <td>Army</td>\n",
       "      <td>Men</td>\n",
       "    </tr>\n",
       "    <tr>\n",
       "      <th>451</th>\n",
       "      <td>Army Men: Air Attack 2</td>\n",
       "      <td>2000.0</td>\n",
       "      <td>Action</td>\n",
       "      <td>3DO</td>\n",
       "      <td>0.17</td>\n",
       "      <td>0.11</td>\n",
       "      <td>0.0</td>\n",
       "      <td>0.02</td>\n",
       "      <td>0.30</td>\n",
       "      <td>74.0</td>\n",
       "      <td>8.0</td>\n",
       "      <td>5.3</td>\n",
       "      <td>T</td>\n",
       "      <td>Army</td>\n",
       "      <td>Army</td>\n",
       "      <td>World</td>\n",
       "    </tr>\n",
       "  </tbody>\n",
       "</table>\n",
       "</div>"
      ],
      "text/plain": [
       "                                         Name  Year_of_Release         Genre  \\\n",
       "7161   Pirates: Legend of the Black Buccaneer           2006.0     Adventure   \n",
       "4858          King's Bounty: Armored Princess           2009.0  Role-Playing   \n",
       "5717                Men of War: Assault Squad           2011.0      Strategy   \n",
       "10969                            World of Goo           2008.0        Puzzle   \n",
       "451                    Army Men: Air Attack 2           2000.0        Action   \n",
       "\n",
       "             Publisher  NA_Sales  EU_Sales  JP_Sales  Other_Sales  \\\n",
       "7161   10TACLE Studios      0.01      0.01       0.0         0.00   \n",
       "4858        1C Company      0.00      0.01       0.0         0.00   \n",
       "5717        1C Company      0.01      0.03       0.0         0.01   \n",
       "10969           2D Boy      0.00      0.03       0.0         0.01   \n",
       "451                3DO      0.17      0.11       0.0         0.02   \n",
       "\n",
       "       Global_Sales  Critic_Score  Critic_Count  User_Score Rating  1st_word  \\\n",
       "7161           0.02          42.0           4.0         7.0      T  Pirates:   \n",
       "4858           0.01          82.0          25.0         8.6      T    King's   \n",
       "5717           0.05          77.0          21.0         8.2      T       Men   \n",
       "10969          0.04          90.0          26.0         8.5      E     World   \n",
       "451            0.30          74.0           8.0         5.3      T      Army   \n",
       "\n",
       "      1st_wordcopy 1st_wordcopy2  \n",
       "7161        King's           NaN  \n",
       "4858           Men      Pirates:  \n",
       "5717         World        King's  \n",
       "10969         Army           Men  \n",
       "451           Army         World  "
      ]
     },
     "execution_count": 15,
     "metadata": {},
     "output_type": "execute_result"
    }
   ],
   "source": [
    "# Create two new columns (copies of 1st_word) for comparison\n",
    "\n",
    "vgdata['1st_wordcopy'] = vgdata['1st_word'].shift(-1)\n",
    "vgdata['1st_wordcopy2'] = vgdata['1st_word'].shift(1)\n",
    "\n",
    "vgdata.head()"
   ]
  },
  {
   "cell_type": "code",
   "execution_count": 16,
   "metadata": {
    "cell_id": "00016-f7c25cfb-46e7-41a7-b6d6-f0136616f0e0",
    "deepnote_cell_height": 706.65625,
    "deepnote_cell_type": "code",
    "deepnote_to_be_reexecuted": false,
    "execution_millis": 122,
    "execution_start": 1650284371594,
    "source_hash": "582e5093",
    "tags": []
   },
   "outputs": [
    {
     "data": {
      "text/html": [
       "<div>\n",
       "<style scoped>\n",
       "    .dataframe tbody tr th:only-of-type {\n",
       "        vertical-align: middle;\n",
       "    }\n",
       "\n",
       "    .dataframe tbody tr th {\n",
       "        vertical-align: top;\n",
       "    }\n",
       "\n",
       "    .dataframe thead th {\n",
       "        text-align: right;\n",
       "    }\n",
       "</style>\n",
       "<table border=\"1\" class=\"dataframe\">\n",
       "  <thead>\n",
       "    <tr style=\"text-align: right;\">\n",
       "      <th></th>\n",
       "      <th>Name</th>\n",
       "      <th>Year_of_Release</th>\n",
       "      <th>Genre</th>\n",
       "      <th>Publisher</th>\n",
       "      <th>NA_Sales</th>\n",
       "      <th>EU_Sales</th>\n",
       "      <th>JP_Sales</th>\n",
       "      <th>Other_Sales</th>\n",
       "      <th>Global_Sales</th>\n",
       "      <th>Critic_Score</th>\n",
       "      <th>Critic_Count</th>\n",
       "      <th>User_Score</th>\n",
       "      <th>Rating</th>\n",
       "      <th>1st_word</th>\n",
       "      <th>1st_wordcopy</th>\n",
       "      <th>1st_wordcopy2</th>\n",
       "      <th>Compare</th>\n",
       "      <th>Compare2</th>\n",
       "    </tr>\n",
       "  </thead>\n",
       "  <tbody>\n",
       "    <tr>\n",
       "      <th>7161</th>\n",
       "      <td>Pirates: Legend of the Black Buccaneer</td>\n",
       "      <td>2006.0</td>\n",
       "      <td>Adventure</td>\n",
       "      <td>10TACLE Studios</td>\n",
       "      <td>0.01</td>\n",
       "      <td>0.01</td>\n",
       "      <td>0.0</td>\n",
       "      <td>0.00</td>\n",
       "      <td>0.02</td>\n",
       "      <td>42.0</td>\n",
       "      <td>4.0</td>\n",
       "      <td>7.0</td>\n",
       "      <td>T</td>\n",
       "      <td>Pirates:</td>\n",
       "      <td>King's</td>\n",
       "      <td>NaN</td>\n",
       "      <td>0</td>\n",
       "      <td>0</td>\n",
       "    </tr>\n",
       "    <tr>\n",
       "      <th>4858</th>\n",
       "      <td>King's Bounty: Armored Princess</td>\n",
       "      <td>2009.0</td>\n",
       "      <td>Role-Playing</td>\n",
       "      <td>1C Company</td>\n",
       "      <td>0.00</td>\n",
       "      <td>0.01</td>\n",
       "      <td>0.0</td>\n",
       "      <td>0.00</td>\n",
       "      <td>0.01</td>\n",
       "      <td>82.0</td>\n",
       "      <td>25.0</td>\n",
       "      <td>8.6</td>\n",
       "      <td>T</td>\n",
       "      <td>King's</td>\n",
       "      <td>Men</td>\n",
       "      <td>Pirates:</td>\n",
       "      <td>0</td>\n",
       "      <td>0</td>\n",
       "    </tr>\n",
       "    <tr>\n",
       "      <th>5717</th>\n",
       "      <td>Men of War: Assault Squad</td>\n",
       "      <td>2011.0</td>\n",
       "      <td>Strategy</td>\n",
       "      <td>1C Company</td>\n",
       "      <td>0.01</td>\n",
       "      <td>0.03</td>\n",
       "      <td>0.0</td>\n",
       "      <td>0.01</td>\n",
       "      <td>0.05</td>\n",
       "      <td>77.0</td>\n",
       "      <td>21.0</td>\n",
       "      <td>8.2</td>\n",
       "      <td>T</td>\n",
       "      <td>Men</td>\n",
       "      <td>World</td>\n",
       "      <td>King's</td>\n",
       "      <td>0</td>\n",
       "      <td>0</td>\n",
       "    </tr>\n",
       "    <tr>\n",
       "      <th>10969</th>\n",
       "      <td>World of Goo</td>\n",
       "      <td>2008.0</td>\n",
       "      <td>Puzzle</td>\n",
       "      <td>2D Boy</td>\n",
       "      <td>0.00</td>\n",
       "      <td>0.03</td>\n",
       "      <td>0.0</td>\n",
       "      <td>0.01</td>\n",
       "      <td>0.04</td>\n",
       "      <td>90.0</td>\n",
       "      <td>26.0</td>\n",
       "      <td>8.5</td>\n",
       "      <td>E</td>\n",
       "      <td>World</td>\n",
       "      <td>Army</td>\n",
       "      <td>Men</td>\n",
       "      <td>0</td>\n",
       "      <td>0</td>\n",
       "    </tr>\n",
       "    <tr>\n",
       "      <th>451</th>\n",
       "      <td>Army Men: Air Attack 2</td>\n",
       "      <td>2000.0</td>\n",
       "      <td>Action</td>\n",
       "      <td>3DO</td>\n",
       "      <td>0.17</td>\n",
       "      <td>0.11</td>\n",
       "      <td>0.0</td>\n",
       "      <td>0.02</td>\n",
       "      <td>0.30</td>\n",
       "      <td>74.0</td>\n",
       "      <td>8.0</td>\n",
       "      <td>5.3</td>\n",
       "      <td>T</td>\n",
       "      <td>Army</td>\n",
       "      <td>Army</td>\n",
       "      <td>World</td>\n",
       "      <td>1</td>\n",
       "      <td>0</td>\n",
       "    </tr>\n",
       "  </tbody>\n",
       "</table>\n",
       "</div>"
      ],
      "text/plain": [
       "                                         Name  Year_of_Release         Genre  \\\n",
       "7161   Pirates: Legend of the Black Buccaneer           2006.0     Adventure   \n",
       "4858          King's Bounty: Armored Princess           2009.0  Role-Playing   \n",
       "5717                Men of War: Assault Squad           2011.0      Strategy   \n",
       "10969                            World of Goo           2008.0        Puzzle   \n",
       "451                    Army Men: Air Attack 2           2000.0        Action   \n",
       "\n",
       "             Publisher  NA_Sales  EU_Sales  JP_Sales  Other_Sales  \\\n",
       "7161   10TACLE Studios      0.01      0.01       0.0         0.00   \n",
       "4858        1C Company      0.00      0.01       0.0         0.00   \n",
       "5717        1C Company      0.01      0.03       0.0         0.01   \n",
       "10969           2D Boy      0.00      0.03       0.0         0.01   \n",
       "451                3DO      0.17      0.11       0.0         0.02   \n",
       "\n",
       "       Global_Sales  Critic_Score  Critic_Count  User_Score Rating  1st_word  \\\n",
       "7161           0.02          42.0           4.0         7.0      T  Pirates:   \n",
       "4858           0.01          82.0          25.0         8.6      T    King's   \n",
       "5717           0.05          77.0          21.0         8.2      T       Men   \n",
       "10969          0.04          90.0          26.0         8.5      E     World   \n",
       "451            0.30          74.0           8.0         5.3      T      Army   \n",
       "\n",
       "      1st_wordcopy 1st_wordcopy2  Compare  Compare2  \n",
       "7161        King's           NaN        0         0  \n",
       "4858           Men      Pirates:        0         0  \n",
       "5717         World        King's        0         0  \n",
       "10969         Army           Men        0         0  \n",
       "451           Army         World        1         0  "
      ]
     },
     "execution_count": 16,
     "metadata": {},
     "output_type": "execute_result"
    }
   ],
   "source": [
    "# Compare 1st_word of game titles (to check for any relation between the game titles)\n",
    "\n",
    "vgdata['Compare'] = np.where(vgdata['1st_word'] == vgdata['1st_wordcopy'], 1, 0)\n",
    "vgdata['Compare2'] = np.where(vgdata['1st_word'] == vgdata['1st_wordcopy2'], 1, 0)\n",
    "\n",
    "vgdata.head()"
   ]
  },
  {
   "cell_type": "code",
   "execution_count": 17,
   "metadata": {
    "cell_id": "00017-d73beaa5-4a6f-4886-bc60-57447f45cacf",
    "deepnote_cell_height": 117,
    "deepnote_cell_type": "code",
    "deepnote_to_be_reexecuted": false,
    "execution_millis": 1,
    "execution_start": 1650284371723,
    "source_hash": "b22a64b3",
    "tags": []
   },
   "outputs": [],
   "source": [
    "# Drop rows with two 0s (means current game title is not related to previous or next title)\n",
    "\n",
    "vgdata = vgdata.loc[~((vgdata['Compare'] == 0) & (vgdata['Compare2'] == 0)),:]"
   ]
  },
  {
   "cell_type": "code",
   "execution_count": 18,
   "metadata": {
    "cell_id": "00018-17137ad6-f341-4e75-b053-bcfc24069da5",
    "deepnote_cell_height": 688.65625,
    "deepnote_cell_type": "code",
    "deepnote_table_loading": false,
    "deepnote_table_state": {
     "filters": [],
     "pageIndex": 0,
     "pageSize": 10,
     "sortBy": []
    },
    "deepnote_to_be_reexecuted": false,
    "execution_millis": 182,
    "execution_start": 1650284371728,
    "source_hash": "dd73d99",
    "tags": []
   },
   "outputs": [
    {
     "data": {
      "text/html": [
       "<div>\n",
       "<style scoped>\n",
       "    .dataframe tbody tr th:only-of-type {\n",
       "        vertical-align: middle;\n",
       "    }\n",
       "\n",
       "    .dataframe tbody tr th {\n",
       "        vertical-align: top;\n",
       "    }\n",
       "\n",
       "    .dataframe thead th {\n",
       "        text-align: right;\n",
       "    }\n",
       "</style>\n",
       "<table border=\"1\" class=\"dataframe\">\n",
       "  <thead>\n",
       "    <tr style=\"text-align: right;\">\n",
       "      <th></th>\n",
       "      <th>Name</th>\n",
       "      <th>Year_of_Release</th>\n",
       "      <th>Genre</th>\n",
       "      <th>Publisher</th>\n",
       "      <th>NA_Sales</th>\n",
       "      <th>EU_Sales</th>\n",
       "      <th>JP_Sales</th>\n",
       "      <th>Other_Sales</th>\n",
       "      <th>Global_Sales</th>\n",
       "      <th>Critic_Score</th>\n",
       "      <th>Critic_Count</th>\n",
       "      <th>User_Score</th>\n",
       "      <th>Rating</th>\n",
       "      <th>1st_word</th>\n",
       "    </tr>\n",
       "  </thead>\n",
       "  <tbody>\n",
       "    <tr>\n",
       "      <th>451</th>\n",
       "      <td>Army Men: Air Attack 2</td>\n",
       "      <td>2000.0</td>\n",
       "      <td>Action</td>\n",
       "      <td>3DO</td>\n",
       "      <td>0.17</td>\n",
       "      <td>0.11</td>\n",
       "      <td>0.0</td>\n",
       "      <td>0.02</td>\n",
       "      <td>0.30</td>\n",
       "      <td>74.0</td>\n",
       "      <td>8.0</td>\n",
       "      <td>5.30</td>\n",
       "      <td>T</td>\n",
       "      <td>Army</td>\n",
       "    </tr>\n",
       "    <tr>\n",
       "      <th>454</th>\n",
       "      <td>Army Men: Green Rogue</td>\n",
       "      <td>2001.0</td>\n",
       "      <td>Action</td>\n",
       "      <td>3DO</td>\n",
       "      <td>0.10</td>\n",
       "      <td>0.07</td>\n",
       "      <td>0.0</td>\n",
       "      <td>0.02</td>\n",
       "      <td>0.20</td>\n",
       "      <td>39.0</td>\n",
       "      <td>13.0</td>\n",
       "      <td>3.80</td>\n",
       "      <td>T</td>\n",
       "      <td>Army</td>\n",
       "    </tr>\n",
       "    <tr>\n",
       "      <th>456</th>\n",
       "      <td>Army Men: RTS</td>\n",
       "      <td>2002.0</td>\n",
       "      <td>Strategy</td>\n",
       "      <td>3DO</td>\n",
       "      <td>0.10</td>\n",
       "      <td>0.05</td>\n",
       "      <td>0.0</td>\n",
       "      <td>0.01</td>\n",
       "      <td>0.18</td>\n",
       "      <td>68.0</td>\n",
       "      <td>14.0</td>\n",
       "      <td>8.50</td>\n",
       "      <td>T</td>\n",
       "      <td>Army</td>\n",
       "    </tr>\n",
       "    <tr>\n",
       "      <th>458</th>\n",
       "      <td>Army Men: Sarge's Heroes 2</td>\n",
       "      <td>2000.0</td>\n",
       "      <td>Shooter</td>\n",
       "      <td>3DO</td>\n",
       "      <td>0.57</td>\n",
       "      <td>0.23</td>\n",
       "      <td>0.0</td>\n",
       "      <td>0.04</td>\n",
       "      <td>0.83</td>\n",
       "      <td>51.0</td>\n",
       "      <td>11.5</td>\n",
       "      <td>5.95</td>\n",
       "      <td>T</td>\n",
       "      <td>Army</td>\n",
       "    </tr>\n",
       "    <tr>\n",
       "      <th>4019</th>\n",
       "      <td>High Heat Major League Baseball 2003</td>\n",
       "      <td>2002.0</td>\n",
       "      <td>Sports</td>\n",
       "      <td>3DO</td>\n",
       "      <td>0.18</td>\n",
       "      <td>0.14</td>\n",
       "      <td>0.0</td>\n",
       "      <td>0.05</td>\n",
       "      <td>0.37</td>\n",
       "      <td>84.0</td>\n",
       "      <td>23.0</td>\n",
       "      <td>7.90</td>\n",
       "      <td>E</td>\n",
       "      <td>High</td>\n",
       "    </tr>\n",
       "  </tbody>\n",
       "</table>\n",
       "</div>"
      ],
      "text/plain": [
       "                                      Name  Year_of_Release     Genre  \\\n",
       "451                 Army Men: Air Attack 2           2000.0    Action   \n",
       "454                  Army Men: Green Rogue           2001.0    Action   \n",
       "456                          Army Men: RTS           2002.0  Strategy   \n",
       "458             Army Men: Sarge's Heroes 2           2000.0   Shooter   \n",
       "4019  High Heat Major League Baseball 2003           2002.0    Sports   \n",
       "\n",
       "     Publisher  NA_Sales  EU_Sales  JP_Sales  Other_Sales  Global_Sales  \\\n",
       "451        3DO      0.17      0.11       0.0         0.02          0.30   \n",
       "454        3DO      0.10      0.07       0.0         0.02          0.20   \n",
       "456        3DO      0.10      0.05       0.0         0.01          0.18   \n",
       "458        3DO      0.57      0.23       0.0         0.04          0.83   \n",
       "4019       3DO      0.18      0.14       0.0         0.05          0.37   \n",
       "\n",
       "      Critic_Score  Critic_Count  User_Score Rating 1st_word  \n",
       "451           74.0           8.0        5.30      T     Army  \n",
       "454           39.0          13.0        3.80      T     Army  \n",
       "456           68.0          14.0        8.50      T     Army  \n",
       "458           51.0          11.5        5.95      T     Army  \n",
       "4019          84.0          23.0        7.90      E     High  "
      ]
     },
     "execution_count": 18,
     "metadata": {},
     "output_type": "execute_result"
    }
   ],
   "source": [
    "# Drop unneccessary columns (1st_wordcopy, 1st_wordcopy2, Compare, Compare2)\n",
    "\n",
    "vgdata = vgdata.drop(columns=['1st_wordcopy', '1st_wordcopy2', 'Compare', 'Compare2'])\n",
    "\n",
    "vgdata.head()"
   ]
  },
  {
   "cell_type": "code",
   "execution_count": 19,
   "metadata": {
    "cell_id": "00019-e81477e1-3130-4221-9469-cffbe9c44c3d",
    "deepnote_cell_height": 171,
    "deepnote_cell_type": "code",
    "deepnote_to_be_reexecuted": false,
    "execution_millis": 1,
    "execution_start": 1650284371897,
    "source_hash": "e5068632",
    "tags": []
   },
   "outputs": [],
   "source": [
    "# Sort by levels\n",
    "# Level 1 sort: Publisher\n",
    "# Level 2 sort: Name_word\n",
    "# Level 3 sort: Year of release\n",
    "\n",
    "vgdata = vgdata.sort_values(['Publisher','1st_word', 'Year_of_Release'], ascending=[True, True, True])"
   ]
  },
  {
   "cell_type": "code",
   "execution_count": 20,
   "metadata": {
    "cell_id": "00020-72242c74-edf7-4a1b-bbda-10ad7556e055",
    "deepnote_cell_height": 117,
    "deepnote_cell_type": "code",
    "deepnote_to_be_reexecuted": false,
    "execution_millis": 0,
    "execution_start": 1650284371898,
    "source_hash": "5634426d",
    "tags": []
   },
   "outputs": [],
   "source": [
    "# For every 1st_word, keep first two rows (to keep a game and its sequel)\n",
    "\n",
    "vgdata = vgdata.groupby('1st_word').head(2).reset_index(drop=True)"
   ]
  },
  {
   "cell_type": "code",
   "execution_count": 21,
   "metadata": {
    "cell_id": "00021-f31e2414-c9e2-4ecc-9e9b-aabf51a6ff09",
    "deepnote_cell_height": 135,
    "deepnote_cell_type": "code",
    "deepnote_to_be_reexecuted": false,
    "execution_millis": 9,
    "execution_start": 1650284371908,
    "source_hash": "29124a9",
    "tags": []
   },
   "outputs": [],
   "source": [
    "# Split dataframe into first game and sequel\n",
    "\n",
    "vgdata1 = vgdata.iloc[::2, :]\n",
    "vgdata2 = vgdata.iloc[1::2, :]"
   ]
  },
  {
   "cell_type": "code",
   "execution_count": 22,
   "metadata": {
    "cell_id": "00022-f540d8d7-cd4e-4515-9ce7-1d2ce3e8cae0",
    "deepnote_cell_height": 652.65625,
    "deepnote_cell_type": "code",
    "deepnote_to_be_reexecuted": false,
    "execution_millis": 79,
    "execution_start": 1650284371917,
    "source_hash": "8a318ac2",
    "tags": []
   },
   "outputs": [
    {
     "data": {
      "text/html": [
       "<div>\n",
       "<style scoped>\n",
       "    .dataframe tbody tr th:only-of-type {\n",
       "        vertical-align: middle;\n",
       "    }\n",
       "\n",
       "    .dataframe tbody tr th {\n",
       "        vertical-align: top;\n",
       "    }\n",
       "\n",
       "    .dataframe thead th {\n",
       "        text-align: right;\n",
       "    }\n",
       "</style>\n",
       "<table border=\"1\" class=\"dataframe\">\n",
       "  <thead>\n",
       "    <tr style=\"text-align: right;\">\n",
       "      <th></th>\n",
       "      <th>Name</th>\n",
       "      <th>Year_of_Release</th>\n",
       "      <th>Genre</th>\n",
       "      <th>Publisher</th>\n",
       "      <th>NA_Sales</th>\n",
       "      <th>EU_Sales</th>\n",
       "      <th>JP_Sales</th>\n",
       "      <th>Other_Sales</th>\n",
       "      <th>Global_Sales</th>\n",
       "      <th>Critic_Score</th>\n",
       "      <th>Critic_Count</th>\n",
       "      <th>User_Score</th>\n",
       "      <th>Rating</th>\n",
       "      <th>1st_word</th>\n",
       "    </tr>\n",
       "  </thead>\n",
       "  <tbody>\n",
       "    <tr>\n",
       "      <th>0</th>\n",
       "      <td>Army Men: Air Attack 2</td>\n",
       "      <td>2000.0</td>\n",
       "      <td>Action</td>\n",
       "      <td>3DO</td>\n",
       "      <td>0.17</td>\n",
       "      <td>0.11</td>\n",
       "      <td>0.00</td>\n",
       "      <td>0.02</td>\n",
       "      <td>0.30</td>\n",
       "      <td>74.0</td>\n",
       "      <td>8.0</td>\n",
       "      <td>5.3</td>\n",
       "      <td>T</td>\n",
       "      <td>Army</td>\n",
       "    </tr>\n",
       "    <tr>\n",
       "      <th>2</th>\n",
       "      <td>High Heat Major League Baseball 2003</td>\n",
       "      <td>2002.0</td>\n",
       "      <td>Sports</td>\n",
       "      <td>3DO</td>\n",
       "      <td>0.18</td>\n",
       "      <td>0.14</td>\n",
       "      <td>0.00</td>\n",
       "      <td>0.05</td>\n",
       "      <td>0.37</td>\n",
       "      <td>84.0</td>\n",
       "      <td>23.0</td>\n",
       "      <td>7.9</td>\n",
       "      <td>E</td>\n",
       "      <td>High</td>\n",
       "    </tr>\n",
       "    <tr>\n",
       "      <th>4</th>\n",
       "      <td>Armored Core: Nine Breaker</td>\n",
       "      <td>2004.0</td>\n",
       "      <td>Simulation</td>\n",
       "      <td>505 Games</td>\n",
       "      <td>0.03</td>\n",
       "      <td>0.03</td>\n",
       "      <td>0.00</td>\n",
       "      <td>0.01</td>\n",
       "      <td>0.07</td>\n",
       "      <td>57.0</td>\n",
       "      <td>25.0</td>\n",
       "      <td>8.2</td>\n",
       "      <td>T</td>\n",
       "      <td>Armored</td>\n",
       "    </tr>\n",
       "    <tr>\n",
       "      <th>6</th>\n",
       "      <td>Cooking Mama</td>\n",
       "      <td>2006.0</td>\n",
       "      <td>Simulation</td>\n",
       "      <td>505 Games</td>\n",
       "      <td>3.07</td>\n",
       "      <td>1.91</td>\n",
       "      <td>0.07</td>\n",
       "      <td>0.57</td>\n",
       "      <td>5.63</td>\n",
       "      <td>67.0</td>\n",
       "      <td>35.0</td>\n",
       "      <td>7.2</td>\n",
       "      <td>E</td>\n",
       "      <td>Cooking</td>\n",
       "    </tr>\n",
       "    <tr>\n",
       "      <th>8</th>\n",
       "      <td>Sniper Elite V2</td>\n",
       "      <td>2012.0</td>\n",
       "      <td>Shooter</td>\n",
       "      <td>505 Games</td>\n",
       "      <td>0.84</td>\n",
       "      <td>0.68</td>\n",
       "      <td>0.08</td>\n",
       "      <td>0.21</td>\n",
       "      <td>1.82</td>\n",
       "      <td>65.0</td>\n",
       "      <td>21.0</td>\n",
       "      <td>6.5</td>\n",
       "      <td>M</td>\n",
       "      <td>Sniper</td>\n",
       "    </tr>\n",
       "  </tbody>\n",
       "</table>\n",
       "</div>"
      ],
      "text/plain": [
       "                                   Name  Year_of_Release       Genre  \\\n",
       "0                Army Men: Air Attack 2           2000.0      Action   \n",
       "2  High Heat Major League Baseball 2003           2002.0      Sports   \n",
       "4            Armored Core: Nine Breaker           2004.0  Simulation   \n",
       "6                          Cooking Mama           2006.0  Simulation   \n",
       "8                       Sniper Elite V2           2012.0     Shooter   \n",
       "\n",
       "   Publisher  NA_Sales  EU_Sales  JP_Sales  Other_Sales  Global_Sales  \\\n",
       "0        3DO      0.17      0.11      0.00         0.02          0.30   \n",
       "2        3DO      0.18      0.14      0.00         0.05          0.37   \n",
       "4  505 Games      0.03      0.03      0.00         0.01          0.07   \n",
       "6  505 Games      3.07      1.91      0.07         0.57          5.63   \n",
       "8  505 Games      0.84      0.68      0.08         0.21          1.82   \n",
       "\n",
       "   Critic_Score  Critic_Count  User_Score Rating 1st_word  \n",
       "0          74.0           8.0         5.3      T     Army  \n",
       "2          84.0          23.0         7.9      E     High  \n",
       "4          57.0          25.0         8.2      T  Armored  \n",
       "6          67.0          35.0         7.2      E  Cooking  \n",
       "8          65.0          21.0         6.5      M   Sniper  "
      ]
     },
     "execution_count": 22,
     "metadata": {},
     "output_type": "execute_result"
    }
   ],
   "source": [
    "# Dataframe for first game\n",
    "\n",
    "vgdata1.head()"
   ]
  },
  {
   "cell_type": "code",
   "execution_count": 23,
   "metadata": {
    "cell_id": "00023-78d5c16f-967c-45eb-9b2b-df4748b6a501",
    "deepnote_cell_height": 652.65625,
    "deepnote_cell_type": "code",
    "deepnote_to_be_reexecuted": false,
    "execution_millis": 89,
    "execution_start": 1650284371996,
    "source_hash": "9391f81",
    "tags": []
   },
   "outputs": [
    {
     "data": {
      "text/html": [
       "<div>\n",
       "<style scoped>\n",
       "    .dataframe tbody tr th:only-of-type {\n",
       "        vertical-align: middle;\n",
       "    }\n",
       "\n",
       "    .dataframe tbody tr th {\n",
       "        vertical-align: top;\n",
       "    }\n",
       "\n",
       "    .dataframe thead th {\n",
       "        text-align: right;\n",
       "    }\n",
       "</style>\n",
       "<table border=\"1\" class=\"dataframe\">\n",
       "  <thead>\n",
       "    <tr style=\"text-align: right;\">\n",
       "      <th></th>\n",
       "      <th>Name</th>\n",
       "      <th>Year_of_Release</th>\n",
       "      <th>Genre</th>\n",
       "      <th>Publisher</th>\n",
       "      <th>NA_Sales</th>\n",
       "      <th>EU_Sales</th>\n",
       "      <th>JP_Sales</th>\n",
       "      <th>Other_Sales</th>\n",
       "      <th>Global_Sales</th>\n",
       "      <th>Critic_Score</th>\n",
       "      <th>Critic_Count</th>\n",
       "      <th>User_Score</th>\n",
       "      <th>Rating</th>\n",
       "      <th>1st_word</th>\n",
       "    </tr>\n",
       "  </thead>\n",
       "  <tbody>\n",
       "    <tr>\n",
       "      <th>1</th>\n",
       "      <td>Army Men: Sarge's Heroes 2</td>\n",
       "      <td>2000.0</td>\n",
       "      <td>Shooter</td>\n",
       "      <td>3DO</td>\n",
       "      <td>0.57</td>\n",
       "      <td>0.23</td>\n",
       "      <td>0.00</td>\n",
       "      <td>0.04</td>\n",
       "      <td>0.83</td>\n",
       "      <td>51.0</td>\n",
       "      <td>11.5</td>\n",
       "      <td>5.950</td>\n",
       "      <td>T</td>\n",
       "      <td>Army</td>\n",
       "    </tr>\n",
       "    <tr>\n",
       "      <th>3</th>\n",
       "      <td>High Heat Major League Baseball 2004</td>\n",
       "      <td>2003.0</td>\n",
       "      <td>Sports</td>\n",
       "      <td>3DO</td>\n",
       "      <td>0.24</td>\n",
       "      <td>0.16</td>\n",
       "      <td>0.00</td>\n",
       "      <td>0.05</td>\n",
       "      <td>0.44</td>\n",
       "      <td>83.0</td>\n",
       "      <td>15.5</td>\n",
       "      <td>8.250</td>\n",
       "      <td>E</td>\n",
       "      <td>High</td>\n",
       "    </tr>\n",
       "    <tr>\n",
       "      <th>5</th>\n",
       "      <td>Armored Core: Last Raven</td>\n",
       "      <td>2005.0</td>\n",
       "      <td>Simulation</td>\n",
       "      <td>505 Games</td>\n",
       "      <td>0.05</td>\n",
       "      <td>0.04</td>\n",
       "      <td>0.08</td>\n",
       "      <td>0.01</td>\n",
       "      <td>0.18</td>\n",
       "      <td>59.0</td>\n",
       "      <td>16.0</td>\n",
       "      <td>8.900</td>\n",
       "      <td>T</td>\n",
       "      <td>Armored</td>\n",
       "    </tr>\n",
       "    <tr>\n",
       "      <th>7</th>\n",
       "      <td>Cooking Mama 2: Dinner With Friends</td>\n",
       "      <td>2007.0</td>\n",
       "      <td>Simulation</td>\n",
       "      <td>505 Games</td>\n",
       "      <td>1.60</td>\n",
       "      <td>1.49</td>\n",
       "      <td>0.10</td>\n",
       "      <td>0.39</td>\n",
       "      <td>3.58</td>\n",
       "      <td>70.0</td>\n",
       "      <td>39.0</td>\n",
       "      <td>8.000</td>\n",
       "      <td>E</td>\n",
       "      <td>Cooking</td>\n",
       "    </tr>\n",
       "    <tr>\n",
       "      <th>9</th>\n",
       "      <td>Sniper Elite 3</td>\n",
       "      <td>2014.0</td>\n",
       "      <td>Shooter</td>\n",
       "      <td>505 Games</td>\n",
       "      <td>0.70</td>\n",
       "      <td>0.70</td>\n",
       "      <td>0.00</td>\n",
       "      <td>0.22</td>\n",
       "      <td>1.61</td>\n",
       "      <td>65.0</td>\n",
       "      <td>26.5</td>\n",
       "      <td>6.675</td>\n",
       "      <td>M</td>\n",
       "      <td>Sniper</td>\n",
       "    </tr>\n",
       "  </tbody>\n",
       "</table>\n",
       "</div>"
      ],
      "text/plain": [
       "                                   Name  Year_of_Release       Genre  \\\n",
       "1            Army Men: Sarge's Heroes 2           2000.0     Shooter   \n",
       "3  High Heat Major League Baseball 2004           2003.0      Sports   \n",
       "5              Armored Core: Last Raven           2005.0  Simulation   \n",
       "7   Cooking Mama 2: Dinner With Friends           2007.0  Simulation   \n",
       "9                        Sniper Elite 3           2014.0     Shooter   \n",
       "\n",
       "   Publisher  NA_Sales  EU_Sales  JP_Sales  Other_Sales  Global_Sales  \\\n",
       "1        3DO      0.57      0.23      0.00         0.04          0.83   \n",
       "3        3DO      0.24      0.16      0.00         0.05          0.44   \n",
       "5  505 Games      0.05      0.04      0.08         0.01          0.18   \n",
       "7  505 Games      1.60      1.49      0.10         0.39          3.58   \n",
       "9  505 Games      0.70      0.70      0.00         0.22          1.61   \n",
       "\n",
       "   Critic_Score  Critic_Count  User_Score Rating 1st_word  \n",
       "1          51.0          11.5       5.950      T     Army  \n",
       "3          83.0          15.5       8.250      E     High  \n",
       "5          59.0          16.0       8.900      T  Armored  \n",
       "7          70.0          39.0       8.000      E  Cooking  \n",
       "9          65.0          26.5       6.675      M   Sniper  "
      ]
     },
     "execution_count": 23,
     "metadata": {},
     "output_type": "execute_result"
    }
   ],
   "source": [
    "# Dataframe for sequel\n",
    "\n",
    "vgdata2.head()"
   ]
  },
  {
   "cell_type": "code",
   "execution_count": 24,
   "metadata": {
    "cell_id": "00024-72a138a0-2361-474a-bfcc-6b4df0f95113",
    "deepnote_cell_height": 333,
    "deepnote_cell_type": "code",
    "deepnote_to_be_reexecuted": false,
    "execution_millis": 1,
    "execution_start": 1650284372128,
    "source_hash": "b57918a",
    "tags": []
   },
   "outputs": [],
   "source": [
    "# Create new dataframe for first game and its relevant data\n",
    "\n",
    "vgdata1_main = vgdata1[['Name', 'Year_of_Release', 'Global_Sales', 'NA_Sales', 'EU_Sales', 'JP_Sales', 'Other_Sales',\n",
    "                        'Critic_Score', 'Critic_Count', 'User_Score', 'Rating']].copy()\n",
    "vgdata1_main.rename(columns={'Name':'Game1', 'Year_of_Release':'Year1', 'Global_Sales':'Sales1', \n",
    "                             'NA_Sales':'NA_Sales1', 'EU_Sales':'EU_Sales1', 'JP_Sales':'JP_Sales1', 'Other_Sales':'Other_Sales1',\n",
    "                             'Critic_Score':'Critic_Score1', 'Critic_Count':'Critic_Count1', 'User_Score':'User_Score1', 'Rating':'Rating1'}, inplace = True)\n",
    "vgdata1_main = vgdata1_main.reset_index(drop=True)\n",
    "\n",
    "\n",
    "# Create new dataframe for sequel and its relevant data\n",
    "\n",
    "vgdata2_main = vgdata2[['Name', 'Year_of_Release', 'Global_Sales', 'Genre', 'Publisher']].copy()\n",
    "vgdata2_main.rename(columns={'Name':'Game2', 'Year_of_Release':'Year2', 'Global_Sales':'Sales2'}, inplace = True)\n",
    "vgdata2_main = vgdata2_main.reset_index(drop=True)"
   ]
  },
  {
   "cell_type": "code",
   "execution_count": 25,
   "metadata": {
    "cell_id": "00025-9f28d8fd-96e9-4cf1-ba91-5a5f72af4ca5",
    "deepnote_cell_height": 670.65625,
    "deepnote_cell_type": "code",
    "deepnote_table_loading": false,
    "deepnote_table_state": {
     "filters": [],
     "pageIndex": 110,
     "pageSize": 10,
     "sortBy": []
    },
    "deepnote_to_be_reexecuted": false,
    "execution_millis": 86,
    "execution_start": 1650284372129,
    "source_hash": "521caff6",
    "tags": []
   },
   "outputs": [
    {
     "data": {
      "text/html": [
       "<div>\n",
       "<style scoped>\n",
       "    .dataframe tbody tr th:only-of-type {\n",
       "        vertical-align: middle;\n",
       "    }\n",
       "\n",
       "    .dataframe tbody tr th {\n",
       "        vertical-align: top;\n",
       "    }\n",
       "\n",
       "    .dataframe thead th {\n",
       "        text-align: right;\n",
       "    }\n",
       "</style>\n",
       "<table border=\"1\" class=\"dataframe\">\n",
       "  <thead>\n",
       "    <tr style=\"text-align: right;\">\n",
       "      <th></th>\n",
       "      <th>Game1</th>\n",
       "      <th>Year1</th>\n",
       "      <th>Sales1</th>\n",
       "      <th>NA_Sales1</th>\n",
       "      <th>EU_Sales1</th>\n",
       "      <th>JP_Sales1</th>\n",
       "      <th>Other_Sales1</th>\n",
       "      <th>Critic_Score1</th>\n",
       "      <th>Critic_Count1</th>\n",
       "      <th>User_Score1</th>\n",
       "      <th>Rating1</th>\n",
       "      <th>Game2</th>\n",
       "      <th>Year2</th>\n",
       "      <th>Sales2</th>\n",
       "      <th>Genre</th>\n",
       "      <th>Publisher</th>\n",
       "    </tr>\n",
       "  </thead>\n",
       "  <tbody>\n",
       "    <tr>\n",
       "      <th>0</th>\n",
       "      <td>Army Men: Air Attack 2</td>\n",
       "      <td>2000.0</td>\n",
       "      <td>0.30</td>\n",
       "      <td>0.17</td>\n",
       "      <td>0.11</td>\n",
       "      <td>0.00</td>\n",
       "      <td>0.02</td>\n",
       "      <td>74.0</td>\n",
       "      <td>8.0</td>\n",
       "      <td>5.3</td>\n",
       "      <td>T</td>\n",
       "      <td>Army Men: Sarge's Heroes 2</td>\n",
       "      <td>2000.0</td>\n",
       "      <td>0.83</td>\n",
       "      <td>Shooter</td>\n",
       "      <td>3DO</td>\n",
       "    </tr>\n",
       "    <tr>\n",
       "      <th>1</th>\n",
       "      <td>High Heat Major League Baseball 2003</td>\n",
       "      <td>2002.0</td>\n",
       "      <td>0.37</td>\n",
       "      <td>0.18</td>\n",
       "      <td>0.14</td>\n",
       "      <td>0.00</td>\n",
       "      <td>0.05</td>\n",
       "      <td>84.0</td>\n",
       "      <td>23.0</td>\n",
       "      <td>7.9</td>\n",
       "      <td>E</td>\n",
       "      <td>High Heat Major League Baseball 2004</td>\n",
       "      <td>2003.0</td>\n",
       "      <td>0.44</td>\n",
       "      <td>Sports</td>\n",
       "      <td>3DO</td>\n",
       "    </tr>\n",
       "    <tr>\n",
       "      <th>2</th>\n",
       "      <td>Armored Core: Nine Breaker</td>\n",
       "      <td>2004.0</td>\n",
       "      <td>0.07</td>\n",
       "      <td>0.03</td>\n",
       "      <td>0.03</td>\n",
       "      <td>0.00</td>\n",
       "      <td>0.01</td>\n",
       "      <td>57.0</td>\n",
       "      <td>25.0</td>\n",
       "      <td>8.2</td>\n",
       "      <td>T</td>\n",
       "      <td>Armored Core: Last Raven</td>\n",
       "      <td>2005.0</td>\n",
       "      <td>0.18</td>\n",
       "      <td>Simulation</td>\n",
       "      <td>505 Games</td>\n",
       "    </tr>\n",
       "    <tr>\n",
       "      <th>3</th>\n",
       "      <td>Cooking Mama</td>\n",
       "      <td>2006.0</td>\n",
       "      <td>5.63</td>\n",
       "      <td>3.07</td>\n",
       "      <td>1.91</td>\n",
       "      <td>0.07</td>\n",
       "      <td>0.57</td>\n",
       "      <td>67.0</td>\n",
       "      <td>35.0</td>\n",
       "      <td>7.2</td>\n",
       "      <td>E</td>\n",
       "      <td>Cooking Mama 2: Dinner With Friends</td>\n",
       "      <td>2007.0</td>\n",
       "      <td>3.58</td>\n",
       "      <td>Simulation</td>\n",
       "      <td>505 Games</td>\n",
       "    </tr>\n",
       "    <tr>\n",
       "      <th>4</th>\n",
       "      <td>Sniper Elite V2</td>\n",
       "      <td>2012.0</td>\n",
       "      <td>1.82</td>\n",
       "      <td>0.84</td>\n",
       "      <td>0.68</td>\n",
       "      <td>0.08</td>\n",
       "      <td>0.21</td>\n",
       "      <td>65.0</td>\n",
       "      <td>21.0</td>\n",
       "      <td>6.5</td>\n",
       "      <td>M</td>\n",
       "      <td>Sniper Elite 3</td>\n",
       "      <td>2014.0</td>\n",
       "      <td>1.61</td>\n",
       "      <td>Shooter</td>\n",
       "      <td>505 Games</td>\n",
       "    </tr>\n",
       "  </tbody>\n",
       "</table>\n",
       "</div>"
      ],
      "text/plain": [
       "                                  Game1   Year1  Sales1  NA_Sales1  EU_Sales1  \\\n",
       "0                Army Men: Air Attack 2  2000.0    0.30       0.17       0.11   \n",
       "1  High Heat Major League Baseball 2003  2002.0    0.37       0.18       0.14   \n",
       "2            Armored Core: Nine Breaker  2004.0    0.07       0.03       0.03   \n",
       "3                          Cooking Mama  2006.0    5.63       3.07       1.91   \n",
       "4                       Sniper Elite V2  2012.0    1.82       0.84       0.68   \n",
       "\n",
       "   JP_Sales1  Other_Sales1  Critic_Score1  Critic_Count1  User_Score1 Rating1  \\\n",
       "0       0.00          0.02           74.0            8.0          5.3       T   \n",
       "1       0.00          0.05           84.0           23.0          7.9       E   \n",
       "2       0.00          0.01           57.0           25.0          8.2       T   \n",
       "3       0.07          0.57           67.0           35.0          7.2       E   \n",
       "4       0.08          0.21           65.0           21.0          6.5       M   \n",
       "\n",
       "                                  Game2   Year2  Sales2       Genre  Publisher  \n",
       "0            Army Men: Sarge's Heroes 2  2000.0    0.83     Shooter        3DO  \n",
       "1  High Heat Major League Baseball 2004  2003.0    0.44      Sports        3DO  \n",
       "2              Armored Core: Last Raven  2005.0    0.18  Simulation  505 Games  \n",
       "3   Cooking Mama 2: Dinner With Friends  2007.0    3.58  Simulation  505 Games  \n",
       "4                        Sniper Elite 3  2014.0    1.61     Shooter  505 Games  "
      ]
     },
     "execution_count": 25,
     "metadata": {},
     "output_type": "execute_result"
    }
   ],
   "source": [
    "# Combine both dataframes into a main dataframe\n",
    "\n",
    "main_vgdata = pd.concat([vgdata1_main, vgdata2_main], axis=1)\n",
    "main_vgdata.head()"
   ]
  },
  {
   "cell_type": "code",
   "execution_count": 26,
   "metadata": {
    "cell_id": "00026-97ac2efe-f47f-4a0d-8aa6-96c7a57616cb",
    "deepnote_cell_height": 688.65625,
    "deepnote_cell_type": "code",
    "deepnote_to_be_reexecuted": false,
    "execution_millis": 97,
    "execution_start": 1650284372216,
    "source_hash": "cd0c36f2",
    "tags": []
   },
   "outputs": [
    {
     "data": {
      "text/html": [
       "<div>\n",
       "<style scoped>\n",
       "    .dataframe tbody tr th:only-of-type {\n",
       "        vertical-align: middle;\n",
       "    }\n",
       "\n",
       "    .dataframe tbody tr th {\n",
       "        vertical-align: top;\n",
       "    }\n",
       "\n",
       "    .dataframe thead th {\n",
       "        text-align: right;\n",
       "    }\n",
       "</style>\n",
       "<table border=\"1\" class=\"dataframe\">\n",
       "  <thead>\n",
       "    <tr style=\"text-align: right;\">\n",
       "      <th></th>\n",
       "      <th>Game1</th>\n",
       "      <th>Year1</th>\n",
       "      <th>Sales1</th>\n",
       "      <th>NA_Sales1</th>\n",
       "      <th>EU_Sales1</th>\n",
       "      <th>JP_Sales1</th>\n",
       "      <th>Other_Sales1</th>\n",
       "      <th>Critic_Score1</th>\n",
       "      <th>Critic_Count1</th>\n",
       "      <th>User_Score1</th>\n",
       "      <th>Rating1</th>\n",
       "      <th>Game2</th>\n",
       "      <th>Year2</th>\n",
       "      <th>Sales2</th>\n",
       "      <th>Genre</th>\n",
       "      <th>Publisher</th>\n",
       "      <th>Year_Diff</th>\n",
       "    </tr>\n",
       "  </thead>\n",
       "  <tbody>\n",
       "    <tr>\n",
       "      <th>0</th>\n",
       "      <td>Army Men: Air Attack 2</td>\n",
       "      <td>2000.0</td>\n",
       "      <td>0.30</td>\n",
       "      <td>0.17</td>\n",
       "      <td>0.11</td>\n",
       "      <td>0.00</td>\n",
       "      <td>0.02</td>\n",
       "      <td>74.0</td>\n",
       "      <td>8.0</td>\n",
       "      <td>5.3</td>\n",
       "      <td>T</td>\n",
       "      <td>Army Men: Sarge's Heroes 2</td>\n",
       "      <td>2000.0</td>\n",
       "      <td>0.83</td>\n",
       "      <td>Shooter</td>\n",
       "      <td>3DO</td>\n",
       "      <td>0.0</td>\n",
       "    </tr>\n",
       "    <tr>\n",
       "      <th>1</th>\n",
       "      <td>High Heat Major League Baseball 2003</td>\n",
       "      <td>2002.0</td>\n",
       "      <td>0.37</td>\n",
       "      <td>0.18</td>\n",
       "      <td>0.14</td>\n",
       "      <td>0.00</td>\n",
       "      <td>0.05</td>\n",
       "      <td>84.0</td>\n",
       "      <td>23.0</td>\n",
       "      <td>7.9</td>\n",
       "      <td>E</td>\n",
       "      <td>High Heat Major League Baseball 2004</td>\n",
       "      <td>2003.0</td>\n",
       "      <td>0.44</td>\n",
       "      <td>Sports</td>\n",
       "      <td>3DO</td>\n",
       "      <td>1.0</td>\n",
       "    </tr>\n",
       "    <tr>\n",
       "      <th>2</th>\n",
       "      <td>Armored Core: Nine Breaker</td>\n",
       "      <td>2004.0</td>\n",
       "      <td>0.07</td>\n",
       "      <td>0.03</td>\n",
       "      <td>0.03</td>\n",
       "      <td>0.00</td>\n",
       "      <td>0.01</td>\n",
       "      <td>57.0</td>\n",
       "      <td>25.0</td>\n",
       "      <td>8.2</td>\n",
       "      <td>T</td>\n",
       "      <td>Armored Core: Last Raven</td>\n",
       "      <td>2005.0</td>\n",
       "      <td>0.18</td>\n",
       "      <td>Simulation</td>\n",
       "      <td>505 Games</td>\n",
       "      <td>1.0</td>\n",
       "    </tr>\n",
       "    <tr>\n",
       "      <th>3</th>\n",
       "      <td>Cooking Mama</td>\n",
       "      <td>2006.0</td>\n",
       "      <td>5.63</td>\n",
       "      <td>3.07</td>\n",
       "      <td>1.91</td>\n",
       "      <td>0.07</td>\n",
       "      <td>0.57</td>\n",
       "      <td>67.0</td>\n",
       "      <td>35.0</td>\n",
       "      <td>7.2</td>\n",
       "      <td>E</td>\n",
       "      <td>Cooking Mama 2: Dinner With Friends</td>\n",
       "      <td>2007.0</td>\n",
       "      <td>3.58</td>\n",
       "      <td>Simulation</td>\n",
       "      <td>505 Games</td>\n",
       "      <td>1.0</td>\n",
       "    </tr>\n",
       "    <tr>\n",
       "      <th>4</th>\n",
       "      <td>Sniper Elite V2</td>\n",
       "      <td>2012.0</td>\n",
       "      <td>1.82</td>\n",
       "      <td>0.84</td>\n",
       "      <td>0.68</td>\n",
       "      <td>0.08</td>\n",
       "      <td>0.21</td>\n",
       "      <td>65.0</td>\n",
       "      <td>21.0</td>\n",
       "      <td>6.5</td>\n",
       "      <td>M</td>\n",
       "      <td>Sniper Elite 3</td>\n",
       "      <td>2014.0</td>\n",
       "      <td>1.61</td>\n",
       "      <td>Shooter</td>\n",
       "      <td>505 Games</td>\n",
       "      <td>2.0</td>\n",
       "    </tr>\n",
       "  </tbody>\n",
       "</table>\n",
       "</div>"
      ],
      "text/plain": [
       "                                  Game1   Year1  Sales1  NA_Sales1  EU_Sales1  \\\n",
       "0                Army Men: Air Attack 2  2000.0    0.30       0.17       0.11   \n",
       "1  High Heat Major League Baseball 2003  2002.0    0.37       0.18       0.14   \n",
       "2            Armored Core: Nine Breaker  2004.0    0.07       0.03       0.03   \n",
       "3                          Cooking Mama  2006.0    5.63       3.07       1.91   \n",
       "4                       Sniper Elite V2  2012.0    1.82       0.84       0.68   \n",
       "\n",
       "   JP_Sales1  Other_Sales1  Critic_Score1  Critic_Count1  User_Score1 Rating1  \\\n",
       "0       0.00          0.02           74.0            8.0          5.3       T   \n",
       "1       0.00          0.05           84.0           23.0          7.9       E   \n",
       "2       0.00          0.01           57.0           25.0          8.2       T   \n",
       "3       0.07          0.57           67.0           35.0          7.2       E   \n",
       "4       0.08          0.21           65.0           21.0          6.5       M   \n",
       "\n",
       "                                  Game2   Year2  Sales2       Genre  \\\n",
       "0            Army Men: Sarge's Heroes 2  2000.0    0.83     Shooter   \n",
       "1  High Heat Major League Baseball 2004  2003.0    0.44      Sports   \n",
       "2              Armored Core: Last Raven  2005.0    0.18  Simulation   \n",
       "3   Cooking Mama 2: Dinner With Friends  2007.0    3.58  Simulation   \n",
       "4                        Sniper Elite 3  2014.0    1.61     Shooter   \n",
       "\n",
       "   Publisher  Year_Diff  \n",
       "0        3DO        0.0  \n",
       "1        3DO        1.0  \n",
       "2  505 Games        1.0  \n",
       "3  505 Games        1.0  \n",
       "4  505 Games        2.0  "
      ]
     },
     "execution_count": 26,
     "metadata": {},
     "output_type": "execute_result"
    }
   ],
   "source": [
    "# Create new column for year difference [Year_Diff]\n",
    "\n",
    "main_vgdata['Year_Diff'] = main_vgdata['Year2'] - main_vgdata['Year1']\n",
    "\n",
    "main_vgdata.head()"
   ]
  },
  {
   "cell_type": "code",
   "execution_count": 27,
   "metadata": {
    "cell_id": "00027-5ae46cb2-9b51-48bf-9beb-c54a6077bad4",
    "deepnote_cell_height": 688.65625,
    "deepnote_cell_type": "code",
    "deepnote_to_be_reexecuted": false,
    "execution_millis": 94,
    "execution_start": 1650284372315,
    "scrolled": true,
    "source_hash": "15e03ae8",
    "tags": []
   },
   "outputs": [
    {
     "data": {
      "text/html": [
       "<div>\n",
       "<style scoped>\n",
       "    .dataframe tbody tr th:only-of-type {\n",
       "        vertical-align: middle;\n",
       "    }\n",
       "\n",
       "    .dataframe tbody tr th {\n",
       "        vertical-align: top;\n",
       "    }\n",
       "\n",
       "    .dataframe thead th {\n",
       "        text-align: right;\n",
       "    }\n",
       "</style>\n",
       "<table border=\"1\" class=\"dataframe\">\n",
       "  <thead>\n",
       "    <tr style=\"text-align: right;\">\n",
       "      <th></th>\n",
       "      <th>Game1</th>\n",
       "      <th>Sales1</th>\n",
       "      <th>NA_Sales1</th>\n",
       "      <th>EU_Sales1</th>\n",
       "      <th>JP_Sales1</th>\n",
       "      <th>Other_Sales1</th>\n",
       "      <th>Critic_Score1</th>\n",
       "      <th>Critic_Count1</th>\n",
       "      <th>User_Score1</th>\n",
       "      <th>Rating1</th>\n",
       "      <th>Game2</th>\n",
       "      <th>Sales2</th>\n",
       "      <th>Genre</th>\n",
       "      <th>Publisher</th>\n",
       "      <th>Year_Diff</th>\n",
       "    </tr>\n",
       "  </thead>\n",
       "  <tbody>\n",
       "    <tr>\n",
       "      <th>0</th>\n",
       "      <td>Army Men: Air Attack 2</td>\n",
       "      <td>0.30</td>\n",
       "      <td>0.17</td>\n",
       "      <td>0.11</td>\n",
       "      <td>0.00</td>\n",
       "      <td>0.02</td>\n",
       "      <td>74.0</td>\n",
       "      <td>8.0</td>\n",
       "      <td>5.3</td>\n",
       "      <td>T</td>\n",
       "      <td>Army Men: Sarge's Heroes 2</td>\n",
       "      <td>0.83</td>\n",
       "      <td>Shooter</td>\n",
       "      <td>3DO</td>\n",
       "      <td>0.0</td>\n",
       "    </tr>\n",
       "    <tr>\n",
       "      <th>1</th>\n",
       "      <td>High Heat Major League Baseball 2003</td>\n",
       "      <td>0.37</td>\n",
       "      <td>0.18</td>\n",
       "      <td>0.14</td>\n",
       "      <td>0.00</td>\n",
       "      <td>0.05</td>\n",
       "      <td>84.0</td>\n",
       "      <td>23.0</td>\n",
       "      <td>7.9</td>\n",
       "      <td>E</td>\n",
       "      <td>High Heat Major League Baseball 2004</td>\n",
       "      <td>0.44</td>\n",
       "      <td>Sports</td>\n",
       "      <td>3DO</td>\n",
       "      <td>1.0</td>\n",
       "    </tr>\n",
       "    <tr>\n",
       "      <th>2</th>\n",
       "      <td>Armored Core: Nine Breaker</td>\n",
       "      <td>0.07</td>\n",
       "      <td>0.03</td>\n",
       "      <td>0.03</td>\n",
       "      <td>0.00</td>\n",
       "      <td>0.01</td>\n",
       "      <td>57.0</td>\n",
       "      <td>25.0</td>\n",
       "      <td>8.2</td>\n",
       "      <td>T</td>\n",
       "      <td>Armored Core: Last Raven</td>\n",
       "      <td>0.18</td>\n",
       "      <td>Simulation</td>\n",
       "      <td>505 Games</td>\n",
       "      <td>1.0</td>\n",
       "    </tr>\n",
       "    <tr>\n",
       "      <th>3</th>\n",
       "      <td>Cooking Mama</td>\n",
       "      <td>5.63</td>\n",
       "      <td>3.07</td>\n",
       "      <td>1.91</td>\n",
       "      <td>0.07</td>\n",
       "      <td>0.57</td>\n",
       "      <td>67.0</td>\n",
       "      <td>35.0</td>\n",
       "      <td>7.2</td>\n",
       "      <td>E</td>\n",
       "      <td>Cooking Mama 2: Dinner With Friends</td>\n",
       "      <td>3.58</td>\n",
       "      <td>Simulation</td>\n",
       "      <td>505 Games</td>\n",
       "      <td>1.0</td>\n",
       "    </tr>\n",
       "    <tr>\n",
       "      <th>4</th>\n",
       "      <td>Sniper Elite V2</td>\n",
       "      <td>1.82</td>\n",
       "      <td>0.84</td>\n",
       "      <td>0.68</td>\n",
       "      <td>0.08</td>\n",
       "      <td>0.21</td>\n",
       "      <td>65.0</td>\n",
       "      <td>21.0</td>\n",
       "      <td>6.5</td>\n",
       "      <td>M</td>\n",
       "      <td>Sniper Elite 3</td>\n",
       "      <td>1.61</td>\n",
       "      <td>Shooter</td>\n",
       "      <td>505 Games</td>\n",
       "      <td>2.0</td>\n",
       "    </tr>\n",
       "  </tbody>\n",
       "</table>\n",
       "</div>"
      ],
      "text/plain": [
       "                                  Game1  Sales1  NA_Sales1  EU_Sales1  \\\n",
       "0                Army Men: Air Attack 2    0.30       0.17       0.11   \n",
       "1  High Heat Major League Baseball 2003    0.37       0.18       0.14   \n",
       "2            Armored Core: Nine Breaker    0.07       0.03       0.03   \n",
       "3                          Cooking Mama    5.63       3.07       1.91   \n",
       "4                       Sniper Elite V2    1.82       0.84       0.68   \n",
       "\n",
       "   JP_Sales1  Other_Sales1  Critic_Score1  Critic_Count1  User_Score1 Rating1  \\\n",
       "0       0.00          0.02           74.0            8.0          5.3       T   \n",
       "1       0.00          0.05           84.0           23.0          7.9       E   \n",
       "2       0.00          0.01           57.0           25.0          8.2       T   \n",
       "3       0.07          0.57           67.0           35.0          7.2       E   \n",
       "4       0.08          0.21           65.0           21.0          6.5       M   \n",
       "\n",
       "                                  Game2  Sales2       Genre  Publisher  \\\n",
       "0            Army Men: Sarge's Heroes 2    0.83     Shooter        3DO   \n",
       "1  High Heat Major League Baseball 2004    0.44      Sports        3DO   \n",
       "2              Armored Core: Last Raven    0.18  Simulation  505 Games   \n",
       "3   Cooking Mama 2: Dinner With Friends    3.58  Simulation  505 Games   \n",
       "4                        Sniper Elite 3    1.61     Shooter  505 Games   \n",
       "\n",
       "   Year_Diff  \n",
       "0        0.0  \n",
       "1        1.0  \n",
       "2        1.0  \n",
       "3        1.0  \n",
       "4        2.0  "
      ]
     },
     "execution_count": 27,
     "metadata": {},
     "output_type": "execute_result"
    }
   ],
   "source": [
    "# Drop year columns\n",
    "\n",
    "main_vgdata = main_vgdata.drop(columns=['Year1', 'Year2'])\n",
    "\n",
    "main_vgdata.head()"
   ]
  },
  {
   "cell_type": "code",
   "execution_count": 28,
   "metadata": {
    "cell_id": "00028-1e1cc53a-562e-439c-8d78-8677ab1a62ef",
    "deepnote_cell_height": 211.78125,
    "deepnote_cell_type": "code",
    "deepnote_output_heights": [
     78.78125
    ],
    "deepnote_to_be_reexecuted": false,
    "execution_millis": 6,
    "execution_start": 1650284372411,
    "source_hash": "507cc6c1",
    "tags": []
   },
   "outputs": [
    {
     "data": {
      "text/plain": [
       "Index(['Game1', 'Sales1', 'NA_Sales1', 'EU_Sales1', 'JP_Sales1',\n",
       "       'Other_Sales1', 'Critic_Score1', 'Critic_Count1', 'User_Score1',\n",
       "       'Rating1', 'Game2', 'Sales2', 'Genre', 'Publisher', 'Year_Diff'],\n",
       "      dtype='object')"
      ]
     },
     "execution_count": 28,
     "metadata": {},
     "output_type": "execute_result"
    }
   ],
   "source": [
    "# Show current columns in main dataframe\n",
    "\n",
    "main_vgdata.columns"
   ]
  },
  {
   "cell_type": "code",
   "execution_count": 29,
   "metadata": {
    "cell_id": "0486a863b7054f9ab1edfc19b0608095",
    "deepnote_cell_height": 547.015625,
    "deepnote_cell_type": "code",
    "deepnote_to_be_reexecuted": false,
    "execution_millis": 22,
    "execution_start": 1650285194196,
    "source_hash": "e28eccf7",
    "tags": []
   },
   "outputs": [
    {
     "name": "stdout",
     "output_type": "stream",
     "text": [
      "<class 'pandas.core.frame.DataFrame'>\n",
      "RangeIndex: 460 entries, 0 to 459\n",
      "Data columns (total 15 columns):\n",
      " #   Column         Non-Null Count  Dtype  \n",
      "---  ------         --------------  -----  \n",
      " 0   Game1          460 non-null    object \n",
      " 1   Sales1         460 non-null    float64\n",
      " 2   NA_Sales1      460 non-null    float64\n",
      " 3   EU_Sales1      460 non-null    float64\n",
      " 4   JP_Sales1      460 non-null    float64\n",
      " 5   Other_Sales1   460 non-null    float64\n",
      " 6   Critic_Score1  460 non-null    float64\n",
      " 7   Critic_Count1  460 non-null    float64\n",
      " 8   User_Score1    460 non-null    float64\n",
      " 9   Rating1        460 non-null    object \n",
      " 10  Game2          460 non-null    object \n",
      " 11  Sales2         460 non-null    float64\n",
      " 12  Genre          460 non-null    object \n",
      " 13  Publisher      460 non-null    object \n",
      " 14  Year_Diff      460 non-null    float64\n",
      "dtypes: float64(10), object(5)\n",
      "memory usage: 54.0+ KB\n"
     ]
    }
   ],
   "source": [
    "# Show final main_vgdata dataframe\n",
    "main_vgdata.info()"
   ]
  },
  {
   "cell_type": "markdown",
   "metadata": {
    "cell_id": "00029-15f58c24-502d-41ef-ad1b-7d49b9ecf727",
    "deepnote_cell_height": 70,
    "deepnote_cell_type": "markdown",
    "deepnote_to_be_reexecuted": false,
    "execution_millis": 1084,
    "execution_start": 1649402357412,
    "source_hash": "77bc314c",
    "tags": []
   },
   "source": [
    "## Exploratory Data Analysis"
   ]
  },
  {
   "cell_type": "markdown",
   "metadata": {
    "cell_id": "00030-34aac14a-b956-4ab5-a68b-fa9454a7d4e4",
    "deepnote_cell_height": 62,
    "deepnote_cell_type": "markdown",
    "tags": []
   },
   "source": [
    "### Numerical Variables"
   ]
  },
  {
   "cell_type": "code",
   "execution_count": 30,
   "metadata": {
    "cell_id": "00031-bb3b6c8b-4f2d-46d4-a368-03b710059431",
    "deepnote_cell_height": 483.65625,
    "deepnote_cell_type": "code",
    "deepnote_to_be_reexecuted": false,
    "execution_millis": 74,
    "execution_start": 1650284372424,
    "source_hash": "9482d943",
    "tags": []
   },
   "outputs": [
    {
     "data": {
      "text/html": [
       "<div>\n",
       "<style scoped>\n",
       "    .dataframe tbody tr th:only-of-type {\n",
       "        vertical-align: middle;\n",
       "    }\n",
       "\n",
       "    .dataframe tbody tr th {\n",
       "        vertical-align: top;\n",
       "    }\n",
       "\n",
       "    .dataframe thead th {\n",
       "        text-align: right;\n",
       "    }\n",
       "</style>\n",
       "<table border=\"1\" class=\"dataframe\">\n",
       "  <thead>\n",
       "    <tr style=\"text-align: right;\">\n",
       "      <th></th>\n",
       "      <th>NA_Sales1</th>\n",
       "      <th>EU_Sales1</th>\n",
       "      <th>JP_Sales1</th>\n",
       "      <th>Other_Sales1</th>\n",
       "      <th>Critic_Score1</th>\n",
       "      <th>Critic_Count1</th>\n",
       "      <th>User_Score1</th>\n",
       "      <th>Sales2</th>\n",
       "      <th>Year_Diff</th>\n",
       "    </tr>\n",
       "  </thead>\n",
       "  <tbody>\n",
       "    <tr>\n",
       "      <th>0</th>\n",
       "      <td>0.17</td>\n",
       "      <td>0.11</td>\n",
       "      <td>0.00</td>\n",
       "      <td>0.02</td>\n",
       "      <td>74.0</td>\n",
       "      <td>8.0</td>\n",
       "      <td>5.3</td>\n",
       "      <td>0.83</td>\n",
       "      <td>0.0</td>\n",
       "    </tr>\n",
       "    <tr>\n",
       "      <th>1</th>\n",
       "      <td>0.18</td>\n",
       "      <td>0.14</td>\n",
       "      <td>0.00</td>\n",
       "      <td>0.05</td>\n",
       "      <td>84.0</td>\n",
       "      <td>23.0</td>\n",
       "      <td>7.9</td>\n",
       "      <td>0.44</td>\n",
       "      <td>1.0</td>\n",
       "    </tr>\n",
       "    <tr>\n",
       "      <th>2</th>\n",
       "      <td>0.03</td>\n",
       "      <td>0.03</td>\n",
       "      <td>0.00</td>\n",
       "      <td>0.01</td>\n",
       "      <td>57.0</td>\n",
       "      <td>25.0</td>\n",
       "      <td>8.2</td>\n",
       "      <td>0.18</td>\n",
       "      <td>1.0</td>\n",
       "    </tr>\n",
       "    <tr>\n",
       "      <th>3</th>\n",
       "      <td>3.07</td>\n",
       "      <td>1.91</td>\n",
       "      <td>0.07</td>\n",
       "      <td>0.57</td>\n",
       "      <td>67.0</td>\n",
       "      <td>35.0</td>\n",
       "      <td>7.2</td>\n",
       "      <td>3.58</td>\n",
       "      <td>1.0</td>\n",
       "    </tr>\n",
       "    <tr>\n",
       "      <th>4</th>\n",
       "      <td>0.84</td>\n",
       "      <td>0.68</td>\n",
       "      <td>0.08</td>\n",
       "      <td>0.21</td>\n",
       "      <td>65.0</td>\n",
       "      <td>21.0</td>\n",
       "      <td>6.5</td>\n",
       "      <td>1.61</td>\n",
       "      <td>2.0</td>\n",
       "    </tr>\n",
       "  </tbody>\n",
       "</table>\n",
       "</div>"
      ],
      "text/plain": [
       "   NA_Sales1  EU_Sales1  JP_Sales1  Other_Sales1  Critic_Score1  \\\n",
       "0       0.17       0.11       0.00          0.02           74.0   \n",
       "1       0.18       0.14       0.00          0.05           84.0   \n",
       "2       0.03       0.03       0.00          0.01           57.0   \n",
       "3       3.07       1.91       0.07          0.57           67.0   \n",
       "4       0.84       0.68       0.08          0.21           65.0   \n",
       "\n",
       "   Critic_Count1  User_Score1  Sales2  Year_Diff  \n",
       "0            8.0          5.3    0.83        0.0  \n",
       "1           23.0          7.9    0.44        1.0  \n",
       "2           25.0          8.2    0.18        1.0  \n",
       "3           35.0          7.2    3.58        1.0  \n",
       "4           21.0          6.5    1.61        2.0  "
      ]
     },
     "execution_count": 30,
     "metadata": {},
     "output_type": "execute_result"
    }
   ],
   "source": [
    "# Create dataframe for relevant numeric variables only\n",
    "\n",
    "num_df = main_vgdata.drop(columns=['Game1', 'Game2', 'Genre', 'Publisher', 'Rating1', 'Sales1'])\n",
    "\n",
    "num_df.head()"
   ]
  },
  {
   "cell_type": "code",
   "execution_count": 31,
   "metadata": {
    "cell_id": "00032-3f85bfd2-29a1-44e5-93ce-cc9c8713e8af",
    "deepnote_cell_height": 814.1875,
    "deepnote_cell_type": "code",
    "deepnote_output_heights": [
     21.1875,
     611
    ],
    "deepnote_to_be_reexecuted": false,
    "execution_millis": 1608,
    "execution_start": 1650284372499,
    "source_hash": "5d89bc0b",
    "tags": []
   },
   "outputs": [
    {
     "data": {
      "text/plain": [
       "<AxesSubplot:>"
      ]
     },
     "execution_count": 31,
     "metadata": {},
     "output_type": "execute_result"
    },
    {
     "data": {
      "image/png": "[encoded data removed]",
      "text/plain": [
       "<Figure size 864x720 with 2 Axes>"
      ]
     },
     "metadata": {},
     "output_type": "display_data"
    }
   ],
   "source": [
    "# Correlation heatmap for all numeric variables\n",
    "\n",
    "f = plt.figure(figsize = (12, 10))\n",
    "sb.heatmap(num_df.corr(), vmin = -1, vmax = 1, annot = True, fmt = '0.2f', cmap = 'PuOr')"
   ]
  },
  {
   "cell_type": "code",
   "execution_count": 32,
   "metadata": {
    "cell_id": "00034-edfa4dbc-959f-4265-b620-9c535246e35c",
    "deepnote_cell_height": 603.1875,
    "deepnote_cell_type": "code",
    "deepnote_output_heights": [
     21.1875,
     274
    ],
    "deepnote_to_be_reexecuted": false,
    "execution_millis": 467,
    "execution_start": 1650284373653,
    "source_hash": "2f7b1bc8",
    "tags": []
   },
   "outputs": [
    {
     "data": {
      "text/plain": [
       "(0.0, 20.0)"
      ]
     },
     "execution_count": 32,
     "metadata": {},
     "output_type": "execute_result"
    },
    {
     "data": {
      "image/png": "[encoded data removed]",
      "text/plain": [
       "<Figure size 432x288 with 1 Axes>"
      ]
     },
     "metadata": {},
     "output_type": "display_data"
    }
   ],
   "source": [
    "# Import scipy.stats for Pearson's correlation coefficient\n",
    "import scipy.stats as st\n",
    "\n",
    "\n",
    "# Plot Sales2 against Year_Diff\n",
    "\n",
    "corr, _ = st.pearsonr(num_df['Year_Diff'], num_df['Sales2'])\n",
    "\n",
    "sb.regplot(x=num_df['Year_Diff'], y=num_df['Sales2'],\n",
    "           scatter_kws={'color':'black'}, line_kws={'color':'lightseagreen'})\n",
    "plt.text(3, 15, f\"Pearson's correlation = {corr}\", fontsize = 12)\n",
    "plt.ylim(0,20)\n",
    "\n",
    "# Correlation coefficient is low: 0.01697\n",
    "# Year_Diff variable will not be used in the regression model"
   ]
  },
  {
   "cell_type": "code",
   "execution_count": 33,
   "metadata": {
    "cell_id": "00035-9ad344f3-b30e-47ef-aa1f-01c27ad486ca",
    "deepnote_cell_height": 603.1875,
    "deepnote_cell_type": "code",
    "deepnote_output_heights": [
     null,
     274
    ],
    "deepnote_to_be_reexecuted": false,
    "execution_millis": 578,
    "execution_start": 1650284374105,
    "source_hash": "a05cf963",
    "tags": []
   },
   "outputs": [
    {
     "data": {
      "text/plain": [
       "(0.0, 20.0)"
      ]
     },
     "execution_count": 33,
     "metadata": {},
     "output_type": "execute_result"
    },
    {
     "data": {
      "image/png": "[encoded data removed]",
      "text/plain": [
       "<Figure size 432x288 with 1 Axes>"
      ]
     },
     "metadata": {},
     "output_type": "display_data"
    }
   ],
   "source": [
    "# Plot Sales2 against Critic_Score1\n",
    "\n",
    "corr, _ = st.pearsonr(num_df['Critic_Score1'], num_df['Sales2'])\n",
    "\n",
    "sb.regplot(x=num_df['Critic_Score1'], y=num_df['Sales2'],\n",
    "           scatter_kws={'color':'black'}, line_kws={'color':'cadetblue'})\n",
    "plt.text(30, 15, f\"Pearson's correlation = {corr}\", fontsize = 12)\n",
    "plt.ylim(0,20)\n",
    "\n",
    "# Correlation coefficient is low: 0.06668\n",
    "# Critic_Score1 variable will not be used in the regression model"
   ]
  },
  {
   "cell_type": "code",
   "execution_count": 34,
   "metadata": {
    "cell_id": "00036-2cdf4879-5a3a-41d7-a97f-d05a3abe9340",
    "deepnote_cell_height": 603.1875,
    "deepnote_cell_type": "code",
    "deepnote_output_heights": [
     21.1875,
     274
    ],
    "deepnote_to_be_reexecuted": false,
    "execution_millis": 528,
    "execution_start": 1650284374692,
    "source_hash": "fa17d23f",
    "tags": []
   },
   "outputs": [
    {
     "data": {
      "text/plain": [
       "(0.0, 20.0)"
      ]
     },
     "execution_count": 34,
     "metadata": {},
     "output_type": "execute_result"
    },
    {
     "data": {
      "image/png": "[encoded data removed]",
      "text/plain": [
       "<Figure size 432x288 with 1 Axes>"
      ]
     },
     "metadata": {},
     "output_type": "display_data"
    }
   ],
   "source": [
    "# Plot Sales2 against Critic_Count1\n",
    "\n",
    "corr, _ = st.pearsonr(num_df['Critic_Count1'], num_df['Sales2'])\n",
    "\n",
    "sb.regplot(x=num_df['Critic_Count1'], y=num_df['Sales2'],\n",
    "           scatter_kws={'color':'black'}, line_kws={'color':'steelblue'})\n",
    "plt.text(30, 15, f\"Pearson's correlation = {corr}\", fontsize = 12)\n",
    "plt.ylim(0,20)\n",
    "\n",
    "# Correlation coefficient is low: 0.1043\n",
    "# Critic_Count1 variable will not be used in the regression model"
   ]
  },
  {
   "cell_type": "code",
   "execution_count": 35,
   "metadata": {
    "cell_id": "00037-1340f580-65c1-4d09-b672-f62f41c2ded8",
    "deepnote_cell_height": 603.1875,
    "deepnote_cell_type": "code",
    "deepnote_output_heights": [
     21.1875,
     274
    ],
    "deepnote_to_be_reexecuted": false,
    "execution_millis": 338,
    "execution_start": 1650284375227,
    "source_hash": "f6c9e642",
    "tags": []
   },
   "outputs": [
    {
     "data": {
      "text/plain": [
       "(0.0, 20.0)"
      ]
     },
     "execution_count": 35,
     "metadata": {},
     "output_type": "execute_result"
    },
    {
     "data": {
      "image/png": "[encoded data removed]",
      "text/plain": [
       "<Figure size 432x288 with 1 Axes>"
      ]
     },
     "metadata": {},
     "output_type": "display_data"
    }
   ],
   "source": [
    "# Plot Sales2 against User_Score1\n",
    "\n",
    "corr, _ = st.pearsonr(num_df['User_Score1'], num_df['Sales2'])\n",
    "\n",
    "sb.regplot(x=num_df['User_Score1'], y=num_df['Sales2'],\n",
    "           scatter_kws={'color':'black'}, line_kws={'color':'dodgerblue'})\n",
    "plt.text(3, 15, f\"Pearson's correlation = {corr}\", fontsize = 12)\n",
    "plt.ylim(0,20)\n",
    "\n",
    "# Correlation coefficient is low: -0.007254\n",
    "# User_Score1 variable will not be used in the regression model"
   ]
  },
  {
   "cell_type": "code",
   "execution_count": 36,
   "metadata": {
    "cell_id": "00038-7bccc6ff-c4e6-4ead-897b-3e3b5ce23117",
    "deepnote_cell_height": 271.78125,
    "deepnote_cell_type": "code",
    "deepnote_output_heights": [
     174.78125
    ],
    "deepnote_to_be_reexecuted": false,
    "execution_millis": 3,
    "execution_start": 1650284375571,
    "source_hash": "9886783a",
    "tags": []
   },
   "outputs": [
    {
     "data": {
      "text/plain": [
       "count    460.000000\n",
       "mean       1.562522\n",
       "std        4.487651\n",
       "min        0.010000\n",
       "25%        0.190000\n",
       "50%        0.585000\n",
       "75%        1.567500\n",
       "max       82.530000\n",
       "Name: Sales2, dtype: float64"
      ]
     },
     "execution_count": 36,
     "metadata": {},
     "output_type": "execute_result"
    }
   ],
   "source": [
    "num_df['Sales2'].describe()"
   ]
  },
  {
   "cell_type": "code",
   "execution_count": 37,
   "metadata": {
    "cell_id": "00039-a2a9e7fe-f6d7-4c5a-a709-d24189f651b1",
    "deepnote_cell_height": 271.78125,
    "deepnote_cell_type": "code",
    "deepnote_output_heights": [
     174.78125
    ],
    "deepnote_to_be_reexecuted": false,
    "execution_millis": 4,
    "execution_start": 1650284375611,
    "source_hash": "68a0aa05",
    "tags": []
   },
   "outputs": [
    {
     "data": {
      "text/plain": [
       "count    460.000000\n",
       "mean       0.944109\n",
       "std        1.632150\n",
       "min        0.000000\n",
       "25%        0.110000\n",
       "50%        0.410000\n",
       "75%        1.032500\n",
       "max       15.000000\n",
       "Name: NA_Sales1, dtype: float64"
      ]
     },
     "execution_count": 37,
     "metadata": {},
     "output_type": "execute_result"
    }
   ],
   "source": [
    "num_df['NA_Sales1'].describe()"
   ]
  },
  {
   "cell_type": "code",
   "execution_count": 38,
   "metadata": {
    "cell_id": "00040-425d28e7-f2b3-428e-b82b-8ada54e5d105",
    "deepnote_cell_height": 271.78125,
    "deepnote_cell_type": "code",
    "deepnote_output_heights": [
     174.78125
    ],
    "deepnote_to_be_reexecuted": false,
    "execution_millis": 3,
    "execution_start": 1650284375612,
    "source_hash": "f52200dd",
    "tags": []
   },
   "outputs": [
    {
     "data": {
      "text/plain": [
       "count    460.000000\n",
       "mean       0.557543\n",
       "std        1.060956\n",
       "min        0.000000\n",
       "25%        0.040000\n",
       "50%        0.170000\n",
       "75%        0.602500\n",
       "max        9.180000\n",
       "Name: EU_Sales1, dtype: float64"
      ]
     },
     "execution_count": 38,
     "metadata": {},
     "output_type": "execute_result"
    }
   ],
   "source": [
    "num_df['EU_Sales1'].describe()"
   ]
  },
  {
   "cell_type": "code",
   "execution_count": 39,
   "metadata": {
    "cell_id": "00041-61fc18ad-8c9f-479f-a81d-0df1de679202",
    "deepnote_cell_height": 271.78125,
    "deepnote_cell_type": "code",
    "deepnote_output_heights": [
     174.78125
    ],
    "deepnote_to_be_reexecuted": false,
    "execution_millis": 3,
    "execution_start": 1650284375613,
    "source_hash": "5ca84ce9",
    "tags": []
   },
   "outputs": [
    {
     "data": {
      "text/plain": [
       "count      8.000000\n",
       "mean      58.411023\n",
       "std      162.281846\n",
       "min        0.000000\n",
       "25%        0.000000\n",
       "50%        0.131424\n",
       "75%        2.018999\n",
       "max      460.000000\n",
       "Name: JP_Sales1, dtype: float64"
      ]
     },
     "execution_count": 39,
     "metadata": {},
     "output_type": "execute_result"
    }
   ],
   "source": [
    "num_df['JP_Sales1'].describe().describe()"
   ]
  },
  {
   "cell_type": "code",
   "execution_count": 40,
   "metadata": {
    "cell_id": "00042-ddc95c46-6de8-4f27-8be9-e5b579defc82",
    "deepnote_cell_height": 271.78125,
    "deepnote_cell_type": "code",
    "deepnote_output_heights": [
     174.78125
    ],
    "deepnote_to_be_reexecuted": false,
    "execution_millis": 2,
    "execution_start": 1650284375656,
    "source_hash": "cbfc6c4b",
    "tags": []
   },
   "outputs": [
    {
     "data": {
      "text/plain": [
       "count    460.000000\n",
       "mean       0.173326\n",
       "std        0.374687\n",
       "min        0.000000\n",
       "25%        0.017500\n",
       "50%        0.060000\n",
       "75%        0.180000\n",
       "max        3.510000\n",
       "Name: Other_Sales1, dtype: float64"
      ]
     },
     "execution_count": 40,
     "metadata": {},
     "output_type": "execute_result"
    }
   ],
   "source": [
    "num_df['Other_Sales1'].describe()"
   ]
  },
  {
   "cell_type": "code",
   "execution_count": 41,
   "metadata": {
    "cell_id": "00043-cf7ff541-5e13-46de-8cdc-efc99c4343d4",
    "deepnote_cell_height": 769.1875,
    "deepnote_cell_type": "code",
    "deepnote_output_heights": [
     21.1875,
     422
    ],
    "deepnote_to_be_reexecuted": false,
    "execution_millis": 1073,
    "execution_start": 1650284375744,
    "source_hash": "a5a6c078",
    "tags": []
   },
   "outputs": [
    {
     "data": {
      "text/plain": [
       "(0.0, 20.0)"
      ]
     },
     "execution_count": 41,
     "metadata": {},
     "output_type": "execute_result"
    },
    {
     "data": {
      "image/png": "[encoded data removed]",
      "text/plain": [
       "<Figure size 432x432 with 3 Axes>"
      ]
     },
     "metadata": {},
     "output_type": "display_data"
    }
   ],
   "source": [
    "# Jointplot of Sales2 against NA_Sales1\n",
    "\n",
    "sb.jointplot(data=num_df, x='NA_Sales1', y='Sales2', height=6, kind='reg',\n",
    "             scatter_kws={'color':'black'}, line_kws={'color':'plum'})\n",
    "\n",
    "corr, _ = st.pearsonr(num_df['NA_Sales1'], num_df['Sales2'])\n",
    "\n",
    "plt.text(-1000, 15, f\"Pearson's correlation = {corr}\", fontsize = 18)\n",
    "plt.ylim(0,20)\n",
    "\n",
    "# Correlation coefficient is moderate: 0.5773\n",
    "# NA_Sales1 variable will be used in the regression model"
   ]
  },
  {
   "cell_type": "code",
   "execution_count": 42,
   "metadata": {
    "cell_id": "00044-40ca2ed3-2387-4e19-bd0e-40cafe55a71f",
    "deepnote_cell_height": 715.1875,
    "deepnote_cell_type": "code",
    "deepnote_output_heights": [
     21.1875,
     422
    ],
    "deepnote_to_be_reexecuted": false,
    "execution_millis": 1334,
    "execution_start": 1650284376821,
    "source_hash": "1c3d959",
    "tags": []
   },
   "outputs": [
    {
     "data": {
      "text/plain": [
       "(0.0, 20.0)"
      ]
     },
     "execution_count": 42,
     "metadata": {},
     "output_type": "execute_result"
    },
    {
     "data": {
      "image/png": "[encoded data removed]",
      "text/plain": [
       "<Figure size 432x432 with 3 Axes>"
      ]
     },
     "metadata": {},
     "output_type": "display_data"
    }
   ],
   "source": [
    "# Jointplot of Sales2 against EU_Sales1\n",
    "\n",
    "sb.jointplot(data=num_df, x='EU_Sales1', y='Sales2', height=6, kind='reg',\n",
    "             scatter_kws={'color':'black'}, line_kws={'color':'darkmagenta'})\n",
    "\n",
    "corr, _ = st.pearsonr(num_df['EU_Sales1'], num_df['Sales2'])\n",
    "\n",
    "plt.text(-1000, 15, f\"Pearson's correlation = {corr}\", fontsize=18)\n",
    "plt.ylim(0,20)"
   ]
  },
  {
   "cell_type": "code",
   "execution_count": 43,
   "metadata": {
    "cell_id": "00045-c371c713-5679-410c-94bd-f2a635c5b0c4",
    "deepnote_cell_height": 769.1875,
    "deepnote_cell_type": "code",
    "deepnote_output_heights": [
     21.1875,
     422
    ],
    "deepnote_to_be_reexecuted": false,
    "execution_millis": 1445,
    "execution_start": 1650284377978,
    "source_hash": "3cd04dac",
    "tags": []
   },
   "outputs": [
    {
     "data": {
      "text/plain": [
       "(0.0, 20.0)"
      ]
     },
     "execution_count": 43,
     "metadata": {},
     "output_type": "execute_result"
    },
    {
     "data": {
      "image/png": "[encoded data removed]",
      "text/plain": [
       "<Figure size 432x432 with 3 Axes>"
      ]
     },
     "metadata": {},
     "output_type": "display_data"
    }
   ],
   "source": [
    "# Jointplot of Sales2 against JP_Sales1\n",
    "\n",
    "sb.jointplot(data=num_df, x='JP_Sales1', y='Sales2', height=6, kind='reg', \n",
    "             scatter_kws={'color':'black'}, line_kws={'color':'rebeccapurple'})\n",
    "\n",
    "corr, _ = st.pearsonr(num_df['JP_Sales1'], num_df['Sales2'])\n",
    "\n",
    "plt.text(-1000, 15, f\"Pearson's correlation = {corr}\", fontsize=18)\n",
    "plt.ylim(0,20)\n",
    "\n",
    "# Correlation coefficient is moderate: 0.5047\n",
    "# JP_Sales1 variable will be used in the regression model"
   ]
  },
  {
   "cell_type": "code",
   "execution_count": 44,
   "metadata": {
    "cell_id": "00046-0e8ab4ca-2c3a-49cf-a869-b7f0e6129007",
    "deepnote_cell_height": 769.1875,
    "deepnote_cell_type": "code",
    "deepnote_output_heights": [
     21.1875,
     422
    ],
    "deepnote_to_be_reexecuted": false,
    "execution_millis": 1139,
    "execution_start": 1650284379424,
    "source_hash": "75dbac00",
    "tags": []
   },
   "outputs": [
    {
     "data": {
      "text/plain": [
       "(0.0, 20.0)"
      ]
     },
     "execution_count": 44,
     "metadata": {},
     "output_type": "execute_result"
    },
    {
     "data": {
      "image/png": "[encoded data removed]",
      "text/plain": [
       "<Figure size 432x432 with 3 Axes>"
      ]
     },
     "metadata": {},
     "output_type": "display_data"
    }
   ],
   "source": [
    "# Jointplot of Sales2 against Other_Sales1\n",
    "\n",
    "sb.jointplot(data=num_df, x='Other_Sales1', y='Sales2', height=6, kind='reg', \n",
    "            scatter_kws={'color':'black'}, line_kws={'color':'darkorchid'})\n",
    "\n",
    "corr, _ = st.pearsonr(num_df['Other_Sales1'], num_df['Sales2'])\n",
    "\n",
    "plt.text(-1000, 15, f\"Pearson's correlation = {corr}\", fontsize=18)\n",
    "plt.ylim(0,20)\n",
    "\n",
    "# Correlation coefficient is moderate: 0.5343\n",
    "# Other_Sales1 variable will be used in the regression model"
   ]
  },
  {
   "cell_type": "markdown",
   "metadata": {
    "cell_id": "00047-3e29d233-5ea0-45ec-9248-16ae7470bea0",
    "deepnote_cell_height": 78,
    "deepnote_cell_type": "markdown",
    "tags": []
   },
   "source": [
    "##### Therefore, based on the correlation values of all numerical variables, NA_Sales1, EU_Sales1, JP_Sales1 and Other_Sales1 have the highest correlation values and will be used in the model training."
   ]
  },
  {
   "cell_type": "markdown",
   "metadata": {
    "cell_id": "00048-98176546-5dff-4715-bb97-a7397370e29e",
    "deepnote_cell_height": 62,
    "deepnote_cell_type": "markdown",
    "tags": []
   },
   "source": [
    "### Categorical Variables"
   ]
  },
  {
   "cell_type": "code",
   "execution_count": 45,
   "metadata": {
    "cell_id": "00049-d66018e2-763c-458a-a15f-9dd0d004eb05",
    "deepnote_cell_height": 449,
    "deepnote_cell_type": "code",
    "deepnote_to_be_reexecuted": false,
    "execution_millis": 31,
    "execution_start": 1650284380564,
    "source_hash": "1444e13e",
    "tags": []
   },
   "outputs": [
    {
     "data": {
      "text/html": [
       "<div>\n",
       "<style scoped>\n",
       "    .dataframe tbody tr th:only-of-type {\n",
       "        vertical-align: middle;\n",
       "    }\n",
       "\n",
       "    .dataframe tbody tr th {\n",
       "        vertical-align: top;\n",
       "    }\n",
       "\n",
       "    .dataframe thead th {\n",
       "        text-align: right;\n",
       "    }\n",
       "</style>\n",
       "<table border=\"1\" class=\"dataframe\">\n",
       "  <thead>\n",
       "    <tr style=\"text-align: right;\">\n",
       "      <th></th>\n",
       "      <th>Game1</th>\n",
       "      <th>Game2</th>\n",
       "      <th>Genre</th>\n",
       "      <th>Sales2</th>\n",
       "    </tr>\n",
       "  </thead>\n",
       "  <tbody>\n",
       "    <tr>\n",
       "      <th>0</th>\n",
       "      <td>Army Men: Air Attack 2</td>\n",
       "      <td>Army Men: Sarge's Heroes 2</td>\n",
       "      <td>Shooter</td>\n",
       "      <td>0.83</td>\n",
       "    </tr>\n",
       "    <tr>\n",
       "      <th>1</th>\n",
       "      <td>High Heat Major League Baseball 2003</td>\n",
       "      <td>High Heat Major League Baseball 2004</td>\n",
       "      <td>Sports</td>\n",
       "      <td>0.44</td>\n",
       "    </tr>\n",
       "    <tr>\n",
       "      <th>2</th>\n",
       "      <td>Armored Core: Nine Breaker</td>\n",
       "      <td>Armored Core: Last Raven</td>\n",
       "      <td>Simulation</td>\n",
       "      <td>0.18</td>\n",
       "    </tr>\n",
       "    <tr>\n",
       "      <th>3</th>\n",
       "      <td>Cooking Mama</td>\n",
       "      <td>Cooking Mama 2: Dinner With Friends</td>\n",
       "      <td>Simulation</td>\n",
       "      <td>3.58</td>\n",
       "    </tr>\n",
       "    <tr>\n",
       "      <th>4</th>\n",
       "      <td>Sniper Elite V2</td>\n",
       "      <td>Sniper Elite 3</td>\n",
       "      <td>Shooter</td>\n",
       "      <td>1.61</td>\n",
       "    </tr>\n",
       "  </tbody>\n",
       "</table>\n",
       "</div>"
      ],
      "text/plain": [
       "                                  Game1                                 Game2  \\\n",
       "0                Army Men: Air Attack 2            Army Men: Sarge's Heroes 2   \n",
       "1  High Heat Major League Baseball 2003  High Heat Major League Baseball 2004   \n",
       "2            Armored Core: Nine Breaker              Armored Core: Last Raven   \n",
       "3                          Cooking Mama   Cooking Mama 2: Dinner With Friends   \n",
       "4                       Sniper Elite V2                        Sniper Elite 3   \n",
       "\n",
       "        Genre  Sales2  \n",
       "0     Shooter    0.83  \n",
       "1      Sports    0.44  \n",
       "2  Simulation    0.18  \n",
       "3  Simulation    3.58  \n",
       "4     Shooter    1.61  "
      ]
     },
     "execution_count": 45,
     "metadata": {},
     "output_type": "execute_result"
    }
   ],
   "source": [
    "# Create dataframe for categorical variables only\n",
    "\n",
    "cat_df = main_vgdata[['Game1', 'Game2', 'Genre', 'Sales2']].copy()\n",
    "cat_df.head()"
   ]
  },
  {
   "cell_type": "code",
   "execution_count": 46,
   "metadata": {
    "cell_id": "00050-f7093d5d-1e3a-4d3d-938f-64b832de0093",
    "deepnote_cell_height": 154.1875,
    "deepnote_cell_type": "code",
    "deepnote_output_heights": [
     21.1875
    ],
    "deepnote_to_be_reexecuted": false,
    "execution_millis": 22,
    "execution_start": 1650284380597,
    "source_hash": "e444480c",
    "tags": []
   },
   "outputs": [
    {
     "data": {
      "text/plain": [
       "12"
      ]
     },
     "execution_count": 46,
     "metadata": {},
     "output_type": "execute_result"
    }
   ],
   "source": [
    "# Number of different genres\n",
    "\n",
    "cat_df[\"Genre\"].nunique()"
   ]
  },
  {
   "cell_type": "code",
   "execution_count": 47,
   "metadata": {
    "cell_id": "00051-3cceaf84-5bb0-4883-aec4-d69a47814a84",
    "deepnote_cell_height": 384.5625,
    "deepnote_cell_type": "code",
    "deepnote_output_heights": [
     251.5625
    ],
    "deepnote_to_be_reexecuted": false,
    "execution_millis": 5,
    "execution_start": 1650284380644,
    "source_hash": "327c93ed",
    "tags": []
   },
   "outputs": [
    {
     "data": {
      "text/plain": [
       "Action          86\n",
       "Role-Playing    66\n",
       "Shooter         59\n",
       "Sports          46\n",
       "Racing          38\n",
       "Strategy        32\n",
       "Platform        32\n",
       "Misc            31\n",
       "Fighting        26\n",
       "Simulation      23\n",
       "Puzzle          11\n",
       "Adventure       10\n",
       "Name: Genre, dtype: int64"
      ]
     },
     "execution_count": 47,
     "metadata": {},
     "output_type": "execute_result"
    }
   ],
   "source": [
    "# Count per genre\n",
    "\n",
    "cat_df[\"Genre\"].value_counts()"
   ]
  },
  {
   "cell_type": "code",
   "execution_count": 48,
   "metadata": {
    "cell_id": "00052-844be3f8-82ab-4c8d-a1ec-c8f5bc4efd8f",
    "deepnote_cell_height": 751.1875,
    "deepnote_cell_type": "code",
    "deepnote_output_heights": [
     21.1875,
     566
    ],
    "deepnote_to_be_reexecuted": false,
    "execution_millis": 423,
    "execution_start": 1650284380648,
    "source_hash": "4c751568",
    "tags": []
   },
   "outputs": [
    {
     "data": {
      "text/plain": [
       "<seaborn.axisgrid.FacetGrid at 0x25758be0a30>"
      ]
     },
     "execution_count": 48,
     "metadata": {},
     "output_type": "execute_result"
    },
    {
     "data": {
      "image/png": "[encoded data removed]",
      "text/plain": [
       "<Figure size 576x576 with 1 Axes>"
      ]
     },
     "metadata": {},
     "output_type": "display_data"
    }
   ],
   "source": [
    "# Regular catplot for counts by genre\n",
    "\n",
    "sb.catplot(y='Genre', data=cat_df, kind='count', height=8)"
   ]
  },
  {
   "cell_type": "code",
   "execution_count": 49,
   "metadata": {
    "cell_id": "00053-46109f77-2b1a-45fe-bede-c552edeee838",
    "deepnote_cell_height": 854.6875,
    "deepnote_cell_type": "code",
    "deepnote_output_heights": [
     21.1875,
     597.5
    ],
    "deepnote_to_be_reexecuted": false,
    "execution_millis": 805,
    "execution_start": 1650284381080,
    "source_hash": "799d05c3",
    "tags": []
   },
   "outputs": [
    {
     "data": {
      "text/plain": [
       "(0.0, 5.0)"
      ]
     },
     "execution_count": 49,
     "metadata": {},
     "output_type": "execute_result"
    },
    {
     "data": {
      "image/png": "[encoded data removed]",
      "text/plain": [
       "<Figure size 1152x864 with 1 Axes>"
      ]
     },
     "metadata": {},
     "output_type": "display_data"
    }
   ],
   "source": [
    "# Plot genre boxplots sorted by median\n",
    "\n",
    "f = plt.figure(figsize=(16, 12))\n",
    "sb.boxplot(y='Genre', x='Sales2', data=cat_df, \n",
    "           order = cat_df.groupby('Genre')['Sales2'].median().sort_values().index, orient='h')\n",
    "\n",
    "plt.xlim((0, 5))"
   ]
  },
  {
   "cell_type": "markdown",
   "metadata": {
    "cell_id": "00054-84ae55ac-e630-44d5-96e6-36cd34985e41",
    "deepnote_cell_height": 70,
    "deepnote_cell_type": "markdown",
    "tags": []
   },
   "source": [
    "## Machine Learning"
   ]
  },
  {
   "cell_type": "code",
   "execution_count": 50,
   "metadata": {
    "cell_id": "00055-a324f2bf-ebcc-4208-b01a-9e3a798e2918",
    "deepnote_cell_height": 351,
    "deepnote_cell_type": "code",
    "deepnote_to_be_reexecuted": false,
    "execution_millis": 2,
    "execution_start": 1650284381525,
    "owner_user_id": "a81d8d2d-a72d-428d-b0b8-bcde2a7c67b5",
    "source_hash": "fbad26a7",
    "tags": []
   },
   "outputs": [],
   "source": [
    "# Extract Response and Predictors to be used in Machine Learning\n",
    "\n",
    "# Predictors: Genre, Rating2, NA_Sales1, EU_Sales1, JP_Sales1, Other_Sales1\n",
    "\n",
    "# Categorical predictors: Get dummies\n",
    "X = pd.DataFrame(main_vgdata['Genre'])\n",
    "X = pd.get_dummies(data=X, drop_first=True, prefix = 'G')\n",
    "\n",
    "# Numeric predictors\n",
    "X['NA_Sales1'] = main_vgdata['NA_Sales1']\n",
    "X['EU_Sales1'] = main_vgdata['EU_Sales1']\n",
    "X['JP_Sales1'] = main_vgdata['JP_Sales1']\n",
    "X['Other_Sales1'] = main_vgdata['Other_Sales1']\n",
    "\n",
    "# Response\n",
    "y = main_vgdata['Sales2']"
   ]
  },
  {
   "cell_type": "code",
   "execution_count": 51,
   "metadata": {
    "cell_id": "00056-9d35fc45-4800-40a2-938e-d926b7fbcd31",
    "deepnote_cell_height": 442.15625,
    "deepnote_cell_type": "code",
    "deepnote_output_heights": [
     309.15625
    ],
    "deepnote_to_be_reexecuted": false,
    "execution_millis": 359,
    "execution_start": 1650284381530,
    "source_hash": "34d3b04f",
    "tags": []
   },
   "outputs": [
    {
     "data": {
      "text/plain": [
       "G_Adventure         uint8\n",
       "G_Fighting          uint8\n",
       "G_Misc              uint8\n",
       "G_Platform          uint8\n",
       "G_Puzzle            uint8\n",
       "G_Racing            uint8\n",
       "G_Role-Playing      uint8\n",
       "G_Shooter           uint8\n",
       "G_Simulation        uint8\n",
       "G_Sports            uint8\n",
       "G_Strategy          uint8\n",
       "NA_Sales1         float64\n",
       "EU_Sales1         float64\n",
       "JP_Sales1         float64\n",
       "Other_Sales1      float64\n",
       "dtype: object"
      ]
     },
     "execution_count": 51,
     "metadata": {},
     "output_type": "execute_result"
    }
   ],
   "source": [
    "# Types of data in X dataframe\n",
    "\n",
    "X.dtypes"
   ]
  },
  {
   "cell_type": "markdown",
   "metadata": {
    "cell_id": "00057-9bead6e6-33c8-4197-82ea-e75087213fc9",
    "deepnote_cell_height": 70,
    "deepnote_cell_type": "markdown"
   },
   "source": [
    "## Model 1: Random Forest Regression"
   ]
  },
  {
   "cell_type": "code",
   "execution_count": 52,
   "metadata": {
    "cell_id": "00058-44211e42-f335-4c8a-8879-d4e856e2e0b8",
    "deepnote_cell_height": 189,
    "deepnote_cell_type": "code",
    "deepnote_to_be_reexecuted": false,
    "execution_millis": 123,
    "execution_start": 1650284381543,
    "source_hash": "83608b08",
    "tags": []
   },
   "outputs": [],
   "source": [
    "# Import libraries for Machine Learning\n",
    "\n",
    "from sklearn.model_selection import train_test_split\n",
    "from sklearn.metrics import r2_score\n",
    "from sklearn.metrics import mean_squared_error\n",
    "from sklearn.ensemble import RandomForestRegressor\n",
    "from sklearn import metrics"
   ]
  },
  {
   "cell_type": "code",
   "execution_count": 53,
   "metadata": {
    "cell_id": "00059-aeb24386-37e3-4225-913f-c8235be8e4e8",
    "deepnote_cell_height": 892.09375,
    "deepnote_cell_type": "code",
    "deepnote_to_be_reexecuted": false,
    "execution_millis": 224,
    "execution_start": 1650284381666,
    "source_hash": "6cdc32e3"
   },
   "outputs": [
    {
     "name": "stdout",
     "output_type": "stream",
     "text": [
      "Mean Absolute Error: 1.12244113496376\n",
      "Mean Squared Error: 3.0420595988618446\n",
      "Root Mean Squared Error: 1.7441501078926218\n",
      "\n",
      "Goodness of Fit of Model \tTrain Dataset\n",
      "Explained Variance (R^2) \t: 0.857800889344378\n",
      "Mean Squared Error (MSE) \t: 3.3211466760344455\n",
      "Root Mean Squared Error (RMSE) \t: 1.822401348779803\n",
      "\n",
      "Goodness of Fit of Model \tTest Dataset\n",
      "Explained Variance (R^2) \t: 0.5641429205852194\n",
      "Mean Squared Error (MSE) \t: 3.0420595988618446\n",
      "Root Mean Squared Error (RMSE) \t: 1.7441501078926218\n",
      "\n"
     ]
    }
   ],
   "source": [
    "# Split data into Train and Test\n",
    "X_trainA, X_testA, y_trainA, y_testA = train_test_split(X, y, test_size=0.2, random_state=42)\n",
    "\n",
    "# Train the model (Random Forest Regression)\n",
    "randfr = RandomForestRegressor(n_estimators=20, max_depth=10, random_state=14)\n",
    "randfr.fit(X_trainA, y_trainA)\n",
    "y_predA = randfr.predict(X_testA)\n",
    "\n",
    "print('Mean Absolute Error:', metrics.mean_absolute_error(y_testA, y_predA))\n",
    "print('Mean Squared Error:', metrics.mean_squared_error(y_testA, y_predA))\n",
    "print('Root Mean Squared Error:', np.sqrt(metrics.mean_squared_error(y_testA, y_predA)))\n",
    "print()\n",
    "\n",
    "# Predict values using the trained model\n",
    "y_train_predA = randfr.predict(X_trainA)\n",
    "y_test_predA = randfr.predict(X_testA)\n",
    "\n",
    "# Check the Goodness of Fit (on Train Data)\n",
    "print('Goodness of Fit of Model \\tTrain Dataset')\n",
    "print('Explained Variance (R^2) \\t:', randfr.score(X_trainA, y_trainA))\n",
    "print('Mean Squared Error (MSE) \\t:', mean_squared_error(y_trainA, y_train_predA))\n",
    "print('Root Mean Squared Error (RMSE) \\t:', np.sqrt(mean_squared_error(y_trainA, y_train_predA)))\n",
    "print()\n",
    "\n",
    "# Check the Goodness of Fit (on Test Data)\n",
    "print('Goodness of Fit of Model \\tTest Dataset')\n",
    "print('Explained Variance (R^2) \\t:', randfr.score(X_testA, y_testA))\n",
    "print('Mean Squared Error (MSE) \\t:', mean_squared_error(y_testA, y_test_predA))\n",
    "print('Root Mean Squared Error (RMSE) \\t:', np.sqrt(mean_squared_error(y_testA, y_test_predA)))\n",
    "print()"
   ]
  },
  {
   "cell_type": "code",
   "execution_count": 56,
   "metadata": {},
   "outputs": [
    {
     "data": {
      "text/plain": [
       "<matplotlib.legend.Legend at 0x2575aadd5e0>"
      ]
     },
     "execution_count": 56,
     "metadata": {},
     "output_type": "execute_result"
    },
    {
     "data": {
      "image/png": "[encoded data removed]",
      "text/plain": [
       "<Figure size 1152x576 with 1 Axes>"
      ]
     },
     "metadata": {},
     "output_type": "display_data"
    }
   ],
   "source": [
    "graphA = pd.DataFrame({'Predicted value':y_test_predA, 'Actual value':y_testA})\n",
    "fig = plt.figure(figsize=(16,8))\n",
    "graphA = graphA.reset_index()\n",
    "graphA = graphA.drop(['index'],axis=1)\n",
    "plt.plot(graphA[:50])\n",
    "plt.legend(['Actual value','Predicted value'])"
   ]
  },
  {
   "cell_type": "markdown",
   "metadata": {
    "cell_id": "00060-2f09e737-d348-4548-a149-ae1efb34de57",
    "deepnote_cell_height": 78,
    "deepnote_cell_type": "markdown"
   },
   "source": [
    "#### Explained variance of model on test set is quite low, so we carry out hyperparameter tuning using GridSearchCV."
   ]
  },
  {
   "cell_type": "markdown",
   "metadata": {
    "cell_id": "00061-9205350e-c2c9-42db-821d-e2b7ea8a137e",
    "deepnote_cell_height": 62,
    "deepnote_cell_type": "markdown"
   },
   "source": [
    "### Refine the model using GridSearchCV"
   ]
  },
  {
   "cell_type": "code",
   "execution_count": 54,
   "metadata": {
    "cell_id": "00062-2d50fd8a-968b-4c99-bb25-bedeac204319",
    "deepnote_cell_height": 117,
    "deepnote_cell_type": "code",
    "deepnote_to_be_reexecuted": false,
    "execution_millis": 1,
    "execution_start": 1650284381727,
    "source_hash": "958b0f56"
   },
   "outputs": [],
   "source": [
    "# Split into Train and Test sets\n",
    "\n",
    "X_train, X_test, y_train, y_test = train_test_split(X, y, test_size = 0.2, random_state = 42)"
   ]
  },
  {
   "cell_type": "code",
   "execution_count": 55,
   "metadata": {
    "cell_id": "00063-423dad61-4b0e-4e54-a42d-cb078f6a1b87",
    "deepnote_cell_height": 207,
    "deepnote_cell_type": "code",
    "deepnote_to_be_reexecuted": false,
    "execution_millis": 1,
    "execution_start": 1650284381772,
    "source_hash": "a25141c6"
   },
   "outputs": [],
   "source": [
    "# Create search grid\n",
    "\n",
    "search_grid = {\n",
    "                'n_estimators': [10, 20, 30, 40], # number of trees in the random forest\n",
    "                'max_depth': [15, 20, 25, 30], # maximum number of levels allowed in each decision tree\n",
    "                'min_samples_split': [2, 4, 6, 8], # minimum sample number to split a node\n",
    "                'min_samples_leaf': [1, 2, 3, 4] # minimum sample number that can be stored in a leaf node\n",
    "}"
   ]
  },
  {
   "cell_type": "code",
   "execution_count": 56,
   "metadata": {
    "cell_id": "00064-4f081115-5116-4293-81a4-8046c5253f0c",
    "deepnote_cell_height": 422.046875,
    "deepnote_cell_type": "code",
    "deepnote_output_heights": [
     null,
     117.1875
    ],
    "deepnote_to_be_reexecuted": false,
    "execution_millis": 62013,
    "execution_start": 1650284381774,
    "source_hash": "205703d0"
   },
   "outputs": [
    {
     "name": "stdout",
     "output_type": "stream",
     "text": [
      "Fitting 5 folds for each of 256 candidates, totalling 1280 fits\n"
     ]
    },
    {
     "data": {
      "text/plain": [
       "GridSearchCV(cv=5, estimator=RandomForestRegressor(), n_jobs=-1,\n",
       "             param_grid={'max_depth': [15, 20, 25, 30],\n",
       "                         'min_samples_leaf': [1, 2, 3, 4],\n",
       "                         'min_samples_split': [2, 4, 6, 8],\n",
       "                         'n_estimators': [10, 20, 30, 40]},\n",
       "             verbose=2)"
      ]
     },
     "execution_count": 56,
     "metadata": {},
     "output_type": "execute_result"
    }
   ],
   "source": [
    "# Find best parameters\n",
    "\n",
    "from sklearn.model_selection import GridSearchCV\n",
    "\n",
    "rf = RandomForestRegressor()\n",
    "\n",
    "gs_model = GridSearchCV(estimator=rf, param_grid=search_grid,\n",
    "                             cv=5, verbose=2, n_jobs = -1)\n",
    "\n",
    "gs_model.fit(X_train, y_train)"
   ]
  },
  {
   "cell_type": "code",
   "execution_count": 57,
   "metadata": {
    "cell_id": "00065-e6c01299-7c44-4c93-b5f9-f52031437e71",
    "deepnote_cell_height": 167.71875,
    "deepnote_cell_type": "code",
    "deepnote_to_be_reexecuted": false,
    "execution_millis": 2,
    "execution_start": 1650286032940,
    "source_hash": "32c56ac1"
   },
   "outputs": [
    {
     "name": "stdout",
     "output_type": "stream",
     "text": [
      "Best Parameters:  {'max_depth': 30, 'min_samples_leaf': 2, 'min_samples_split': 4, 'n_estimators': 20}  \n",
      "\n"
     ]
    }
   ],
   "source": [
    "# Print the best parameters\n",
    "\n",
    "print ('Best Parameters: ', gs_model.best_params_, ' \\n')"
   ]
  },
  {
   "cell_type": "code",
   "execution_count": 58,
   "metadata": {
    "cell_id": "024ede89a60d4031ba3211ad3c35a164",
    "deepnote_cell_height": 313.59375,
    "deepnote_cell_type": "code",
    "deepnote_to_be_reexecuted": false,
    "execution_millis": 19,
    "execution_start": 1650286259820,
    "source_hash": "46622f2f",
    "tags": []
   },
   "outputs": [
    {
     "name": "stdout",
     "output_type": "stream",
     "text": [
      "Mean Absolute Error: 1.0624297101449274\n",
      "Mean Squared Error: 2.7745849602300536\n",
      "Root Mean Squared Error: 1.665708546003788\n"
     ]
    }
   ],
   "source": [
    "# Using the best parameters, fit the model\n",
    "\n",
    "optimised_rf = RandomForestRegressor(max_depth=20, min_samples_leaf=2, min_samples_split=2, n_estimators=10,\n",
    "                                     random_state=9, bootstrap=True) \n",
    "optimised_rf.fit(X_train, y_train)\n",
    "y_predB = optimised_rf.predict(X_test)\n",
    "\n",
    "print('Mean Absolute Error:', metrics.mean_absolute_error(y_test, y_predB))\n",
    "print('Mean Squared Error:', metrics.mean_squared_error(y_test, y_predB))\n",
    "print('Root Mean Squared Error:', np.sqrt(metrics.mean_squared_error(y_test, y_predB)))"
   ]
  },
  {
   "cell_type": "code",
   "execution_count": 59,
   "metadata": {
    "cell_id": "00067-23b7ece5-0424-49ed-b0f4-617ba85401ef",
    "deepnote_cell_height": 578.640625,
    "deepnote_cell_type": "code",
    "deepnote_to_be_reexecuted": false,
    "execution_millis": 25,
    "execution_start": 1650286224695,
    "source_hash": "2314e1eb"
   },
   "outputs": [
    {
     "name": "stdout",
     "output_type": "stream",
     "text": [
      "Goodness of Fit of Model \tTrain Dataset\n",
      "Explained Variance (R^2) \t: 0.5510725666286764\n",
      "Mean Squared Error (MSE) \t: 10.484973121475003\n",
      "Root Mean Squared Error (RMSE) \t: 3.2380508213236867\n",
      "\n",
      "Goodness of Fit of Model \tTest Dataset\n",
      "Explained Variance (R^2) \t: 0.6024658761430901\n",
      "Mean Squared Error (MSE) \t: 2.7745849602300536\n",
      "Root Mean Squared Error (RMSE) \t: 1.665708546003788\n",
      "\n"
     ]
    }
   ],
   "source": [
    "# Predict values using the trained model\n",
    "y_train_predB = optimised_rf.predict(X_train)\n",
    "y_test_predB = optimised_rf.predict(X_test)\n",
    "\n",
    "# Check the Goodness of Fit (on Train Data)\n",
    "print('Goodness of Fit of Model \\tTrain Dataset')\n",
    "print('Explained Variance (R^2) \\t:', optimised_rf.score(X_train, y_train))\n",
    "print('Mean Squared Error (MSE) \\t:', mean_squared_error(y_train, y_train_predB))\n",
    "print('Root Mean Squared Error (RMSE) \\t:', np.sqrt(mean_squared_error(y_train, y_train_predB)))\n",
    "print()\n",
    "\n",
    "# Check the Goodness of Fit (on Test Data)\n",
    "print('Goodness of Fit of Model \\tTest Dataset')\n",
    "print('Explained Variance (R^2) \\t:', optimised_rf.score(X_test, y_test))\n",
    "print('Mean Squared Error (MSE) \\t:', mean_squared_error(y_test, y_test_predB))\n",
    "print('Root Mean Squared Error (RMSE) \\t:', np.sqrt(mean_squared_error(y_test, y_test_predB)))\n",
    "print()"
   ]
  },
  {
   "cell_type": "code",
   "execution_count": 60,
   "metadata": {},
   "outputs": [
    {
     "data": {
      "text/plain": [
       "<matplotlib.legend.Legend at 0x2a5ce6c5b80>"
      ]
     },
     "execution_count": 60,
     "metadata": {},
     "output_type": "execute_result"
    },
    {
     "data": {
      "image/png": "[encoded data removed]",
      "text/plain": [
       "<Figure size 1152x576 with 1 Axes>"
      ]
     },
     "metadata": {},
     "output_type": "display_data"
    }
   ],
   "source": [
    "graphB = pd.DataFrame({'Predicted value':y_test_predB, 'Actual value':y_test})\n",
    "fig = plt.figure(figsize=(16,8))\n",
    "graphB = graphB.reset_index()\n",
    "graphB = graphB.drop(['index'],axis=1)\n",
    "plt.plot(graphB[:50])\n",
    "plt.legend(['Actual value','Predicted value'])"
   ]
  },
  {
   "cell_type": "markdown",
   "metadata": {
    "cell_id": "00068-841f4f80-4714-4fdd-93cf-76b81e2b5992",
    "deepnote_cell_height": 70,
    "deepnote_cell_type": "markdown"
   },
   "source": [
    "## Model 2: XGBoost Regression"
   ]
  },
  {
   "cell_type": "code",
   "execution_count": 61,
   "metadata": {},
   "outputs": [
    {
     "name": "stdout",
     "output_type": "stream",
     "text": [
      "Requirement already satisfied: xgboost in c:\\users\\anika\\anaconda3\\lib\\site-packages (1.6.0)\n",
      "Requirement already satisfied: scipy in c:\\users\\anika\\anaconda3\\lib\\site-packages (from xgboost) (1.7.1)\n",
      "Requirement already satisfied: numpy in c:\\users\\anika\\anaconda3\\lib\\site-packages (from xgboost) (1.20.3)\n"
     ]
    }
   ],
   "source": [
    "!pip install xgboost"
   ]
  },
  {
   "cell_type": "code",
   "execution_count": 62,
   "metadata": {
    "cell_id": "00070-e7fbf251-dc84-41c8-8a33-019dc36ee08c",
    "deepnote_cell_height": 153,
    "deepnote_cell_type": "code",
    "deepnote_to_be_reexecuted": false,
    "execution_millis": 559,
    "execution_start": 1650284460148,
    "source_hash": "8099c8c6"
   },
   "outputs": [],
   "source": [
    "import xgboost as xgb\n",
    "from xgboost import XGBRegressor\n",
    "\n",
    "from sklearn.model_selection import cross_val_score\n",
    "from sklearn.model_selection import RepeatedKFold"
   ]
  },
  {
   "cell_type": "code",
   "execution_count": 63,
   "metadata": {
    "cell_id": "00071-4d6cf560-8835-469e-8ca9-44d426bc2b46",
    "deepnote_cell_height": 117,
    "deepnote_cell_type": "code",
    "deepnote_to_be_reexecuted": false,
    "execution_millis": 0,
    "execution_start": 1650286618864,
    "source_hash": "1fe91184"
   },
   "outputs": [
    {
     "data": {
      "text/plain": [
       "XGBRegressor(base_score=0.5, booster='gbtree', callbacks=None,\n",
       "             colsample_bylevel=1, colsample_bynode=1, colsample_bytree=1,\n",
       "             early_stopping_rounds=None, enable_categorical=False,\n",
       "             eval_metric=None, gamma=0, gpu_id=-1, grow_policy='depthwise',\n",
       "             importance_type=None, interaction_constraints='',\n",
       "             learning_rate=0.300000012, max_bin=256, max_cat_to_onehot=4,\n",
       "             max_delta_step=0, max_depth=6, max_leaves=0, min_child_weight=1,\n",
       "             missing=nan, monotone_constraints='()', n_estimators=100, n_jobs=0,\n",
       "             num_parallel_tree=1, predictor='auto', random_state=0, reg_alpha=0,\n",
       "             reg_lambda=1, ...)"
      ]
     },
     "execution_count": 63,
     "metadata": {},
     "output_type": "execute_result"
    }
   ],
   "source": [
    "# Split into Train and Test sets\n",
    "\n",
    "X_train2, X_test2, y_train2, y_test2 = train_test_split(X, y, test_size = 0.2, random_state = 42)\n",
    "\n",
    "# Train the model (XGBoost Regression)\n",
    "xgbr = XGBRegressor()\n",
    "xgbr.fit(X_train2, y_train2)"
   ]
  },
  {
   "cell_type": "code",
   "execution_count": 64,
   "metadata": {
    "cell_id": "00075-a5136115-abe2-4782-94d0-ae094879f9e0",
    "deepnote_cell_height": 578.640625,
    "deepnote_cell_type": "code",
    "deepnote_to_be_reexecuted": false,
    "execution_millis": 26,
    "execution_start": 1650286621131,
    "source_hash": "9fa733aa"
   },
   "outputs": [
    {
     "name": "stdout",
     "output_type": "stream",
     "text": [
      "Goodness of Fit of Model \tTrain Dataset\n",
      "Explained Variance (R^2) \t: 0.9980527399001631\n",
      "Mean Squared Error (MSE) \t: 0.04547944342359531\n",
      "Root Mean Squared Error (RMSE) \t: 0.21325909927502582\n",
      "\n",
      "Goodness of Fit of Model \tTest Dataset\n",
      "Explained Variance (R^2) \t: 0.2977261145179303\n",
      "Mean Squared Error (MSE) \t: 4.901512709691889\n",
      "Root Mean Squared Error (RMSE) \t: 2.2139360220412625\n",
      "\n"
     ]
    }
   ],
   "source": [
    "# Predict values using the trained model\n",
    "y_train_pred2A = xgbr.predict(X_train2)\n",
    "y_test_pred2A = xgbr.predict(X_test2)\n",
    "\n",
    "# Check the Goodness of Fit (on Train Data)\n",
    "print('Goodness of Fit of Model \\tTrain Dataset')\n",
    "print('Explained Variance (R^2) \\t:', xgbr.score(X_train2, y_train2))\n",
    "print('Mean Squared Error (MSE) \\t:', mean_squared_error(y_train2, y_train_pred2A))\n",
    "print('Root Mean Squared Error (RMSE) \\t:', np.sqrt(mean_squared_error(y_train2, y_train_pred2A)))\n",
    "print()\n",
    "\n",
    "# Check the Goodness of Fit (on Test Data)\n",
    "print('Goodness of Fit of Model \\tTest Dataset')\n",
    "print('Explained Variance (R^2) \\t:', xgbr.score(X_test2, y_test2))\n",
    "print('Mean Squared Error (MSE) \\t:', mean_squared_error(y_test2, y_test_pred2A))\n",
    "print('Root Mean Squared Error (RMSE) \\t:', np.sqrt(mean_squared_error(y_test2, y_test_pred2A)))\n",
    "print()"
   ]
  },
  {
   "cell_type": "code",
   "execution_count": 65,
   "metadata": {
    "cell_id": "00076-371639c8-d473-4e1e-b566-a73b3a123e7d",
    "deepnote_cell_height": 700.5625,
    "deepnote_cell_type": "code",
    "deepnote_output_heights": [
     21.1875,
     425.390625
    ],
    "deepnote_to_be_reexecuted": false,
    "execution_millis": 339,
    "execution_start": 1650286624743,
    "scrolled": true,
    "source_hash": "df30d8bc"
   },
   "outputs": [
    {
     "data": {
      "text/plain": [
       "<matplotlib.legend.Legend at 0x2a5d13d64c0>"
      ]
     },
     "execution_count": 65,
     "metadata": {},
     "output_type": "execute_result"
    },
    {
     "data": {
      "image/png": "[encoded data removed]",
      "text/plain": [
       "<Figure size 1152x576 with 1 Axes>"
      ]
     },
     "metadata": {},
     "output_type": "display_data"
    }
   ],
   "source": [
    "# Plot graph to show predicted values and actual values\n",
    "\n",
    "testA = pd.DataFrame({'Predicted value':y_test_pred2A, 'Actual value':y_test2})\n",
    "fig = plt.figure(figsize=(16,8))\n",
    "testA = testA.reset_index()\n",
    "testA = testA.drop(['index'],axis=1)\n",
    "plt.plot(testA[:50])\n",
    "plt.legend(['Actual value','Predicted value'])"
   ]
  },
  {
   "cell_type": "markdown",
   "metadata": {
    "cell_id": "00077-b3bb2d83-a9d0-42f1-821f-3b07f75eece1",
    "deepnote_cell_height": 98,
    "deepnote_cell_type": "markdown"
   },
   "source": [
    "#### Training score is high at >0.99, but RMSE of test set is high at 2.21.\n",
    "#### Thus, we carry out hyperparameter tuning using RandomizedSearchCV."
   ]
  },
  {
   "cell_type": "markdown",
   "metadata": {
    "cell_id": "00078-b27aa8f3-e014-4d75-a4d4-130855b04fd1",
    "deepnote_cell_height": 62,
    "deepnote_cell_type": "markdown"
   },
   "source": [
    "### Refining the model using RandomizedSearchCV"
   ]
  },
  {
   "cell_type": "code",
   "execution_count": 85,
   "metadata": {
    "cell_id": "00079-afb4e86c-53bd-4ff7-a7f1-dda5b597bf92",
    "deepnote_cell_height": 81,
    "deepnote_cell_type": "code",
    "deepnote_to_be_reexecuted": false,
    "execution_millis": 1,
    "execution_start": 1650286631582,
    "source_hash": "f576e39e"
   },
   "outputs": [],
   "source": [
    "from sklearn.model_selection import RandomizedSearchCV"
   ]
  },
  {
   "cell_type": "code",
   "execution_count": 86,
   "metadata": {
    "cell_id": "00080-25e91b18-90fa-4221-928e-8586b15be663",
    "deepnote_cell_height": 225,
    "deepnote_cell_type": "code",
    "deepnote_to_be_reexecuted": false,
    "execution_millis": 38,
    "execution_start": 1650286631762,
    "owner_user_id": "f14f8b1c-2b5a-4ec6-b83d-0ec7eaa8a7d5",
    "source_hash": "abc416d4"
   },
   "outputs": [],
   "source": [
    "# Set parameters\n",
    "\n",
    "params = {\n",
    "            'learning_rate': [0.01, 0.05, 0.1, 0.15, 0.2, 0.25, 0.3],\n",
    "            'max_depth': [3, 4, 5, 6, 8, 10, 12, 15, 20],\n",
    "            'min_child_weight' : [1, 3, 5, 7, 9, 10],\n",
    "            'gamma': [0, 0.1, 0.2, 0.3, 0.4, 0.5, 1, 1.5, 2, 3, 4, 5],\n",
    "            'colsample_bytree': [0.5, 0.6, 0.7, 0.8, 0.9, 1.0],\n",
    "}"
   ]
  },
  {
   "cell_type": "code",
   "execution_count": 94,
   "metadata": {
    "cell_id": "00081-fef6f281-4e87-4542-ae4f-8bfcf5c29355",
    "deepnote_cell_height": 755.59375,
    "deepnote_cell_type": "code",
    "deepnote_output_heights": [
     null,
     558.734375
    ],
    "deepnote_to_be_reexecuted": false,
    "execution_millis": 23182,
    "execution_start": 1650286737294,
    "source_hash": "280d3dc4"
   },
   "outputs": [
    {
     "name": "stdout",
     "output_type": "stream",
     "text": [
      "Fitting 10 folds for each of 10 candidates, totalling 100 fits\n"
     ]
    },
    {
     "data": {
      "text/plain": [
       "RandomizedSearchCV(cv=10,\n",
       "                   estimator=XGBRegressor(base_score=0.5, booster='gbtree',\n",
       "                                          callbacks=None, colsample_bylevel=1,\n",
       "                                          colsample_bynode=1,\n",
       "                                          colsample_bytree=1,\n",
       "                                          early_stopping_rounds=None,\n",
       "                                          enable_categorical=False,\n",
       "                                          eval_metric=None, gamma=0, gpu_id=-1,\n",
       "                                          grow_policy='depthwise',\n",
       "                                          importance_type=None,\n",
       "                                          interaction_constraints='',\n",
       "                                          learning_rate=0.300000012,\n",
       "                                          max_bin=256,...\n",
       "                                          n_estimators=100, n_jobs=0,\n",
       "                                          num_parallel_tree=1, predictor='auto',\n",
       "                                          random_state=0, reg_alpha=0,\n",
       "                                          reg_lambda=1, ...),\n",
       "                   n_jobs=-1,\n",
       "                   param_distributions={'colsample_bytree': [0.5, 0.6, 0.7, 0.8,\n",
       "                                                             0.9, 1.0],\n",
       "                                        'gamma': [0, 0.1, 0.2, 0.3, 0.4, 0.5, 1,\n",
       "                                                  1.5, 2, 3, 4, 5],\n",
       "                                        'learning_rate': [0.01, 0.05, 0.1, 0.15,\n",
       "                                                          0.2, 0.25, 0.3],\n",
       "                                        'max_depth': [3, 4, 5, 6, 8, 10, 12, 15,\n",
       "                                                      20],\n",
       "                                        'min_child_weight': [1, 3, 5, 7, 9,\n",
       "                                                             10]},\n",
       "                   verbose=1)"
      ]
     },
     "execution_count": 94,
     "metadata": {},
     "output_type": "execute_result"
    }
   ],
   "source": [
    "# Find best parameters\n",
    "\n",
    "rs_model = RandomizedSearchCV(estimator=xgbr, param_distributions=params, n_iter=10, n_jobs=-1, cv=10, verbose=1)\n",
    "rs_model.fit(X_train2, y_train2)"
   ]
  },
  {
   "cell_type": "code",
   "execution_count": 95,
   "metadata": {
    "cell_id": "00082-720a81d1-9646-4298-bb9d-83e3c54f75c4",
    "deepnote_cell_height": 117,
    "deepnote_cell_type": "code",
    "deepnote_to_be_reexecuted": false,
    "execution_millis": 2,
    "execution_start": 1650286765220,
    "source_hash": "5767f928"
   },
   "outputs": [],
   "source": [
    "# Set best parameters\n",
    "\n",
    "optimised_xgbr = rs_model.best_estimator_"
   ]
  },
  {
   "cell_type": "code",
   "execution_count": 96,
   "metadata": {
    "cell_id": "00083-4d26ca5a-fcb3-4ba9-bfd2-221597dcc69b",
    "deepnote_cell_height": 578.640625,
    "deepnote_cell_type": "code",
    "deepnote_to_be_reexecuted": false,
    "execution_millis": 8,
    "execution_start": 1650286769373,
    "owner_user_id": "0181dc31-db98-4be5-9b18-91798e9cc716",
    "source_hash": "aefb8794"
   },
   "outputs": [
    {
     "name": "stdout",
     "output_type": "stream",
     "text": [
      "Goodness of Fit of Model \tTrain Dataset\n",
      "Explained Variance (R^2) \t: 0.5076888250082858\n",
      "Mean Squared Error (MSE) \t: 11.498226781165178\n",
      "Root Mean Squared Error (RMSE) \t: 3.390903534629845\n",
      "\n",
      "Goodness of Fit of Model \tTest Dataset\n",
      "Explained Variance (R^2) \t: 0.6423456714297423\n",
      "Mean Squared Error (MSE) \t: 2.4962443761668194\n",
      "Root Mean Squared Error (RMSE) \t: 1.579950751183979\n",
      "\n"
     ]
    }
   ],
   "source": [
    "# Predict values using the trained model\n",
    "y_train_pred2B = optimised_xgbr.predict(X_train2)\n",
    "y_test_pred2B = optimised_xgbr.predict(X_test2)\n",
    "\n",
    "# Check the Goodness of Fit (on Train Data)\n",
    "print('Goodness of Fit of Model \\tTrain Dataset')\n",
    "print('Explained Variance (R^2) \\t:', optimised_xgbr.score(X_train2, y_train2))\n",
    "print('Mean Squared Error (MSE) \\t:', mean_squared_error(y_train2, y_train_pred2B))\n",
    "print('Root Mean Squared Error (RMSE) \\t:', np.sqrt(mean_squared_error(y_train2, y_train_pred2B)))\n",
    "print()\n",
    "\n",
    "# Check the Goodness of Fit (on Test Data)\n",
    "print('Goodness of Fit of Model \\tTest Dataset')\n",
    "print('Explained Variance (R^2) \\t:', optimised_xgbr.score(X_test2, y_test2))\n",
    "print('Mean Squared Error (MSE) \\t:', mean_squared_error(y_test2, y_test_pred2B))\n",
    "print('Root Mean Squared Error (RMSE) \\t:', np.sqrt(mean_squared_error(y_test2, y_test_pred2B)))\n",
    "print()"
   ]
  },
  {
   "cell_type": "code",
   "execution_count": 97,
   "metadata": {
    "cell_id": "00084-55d06fad-a67c-4816-b5b1-7f06ff963ec7",
    "deepnote_cell_height": 700.5625,
    "deepnote_cell_type": "code",
    "deepnote_output_heights": [
     21.1875,
     425.390625
    ],
    "deepnote_to_be_reexecuted": false,
    "execution_millis": 303,
    "execution_start": 1650286798240,
    "source_hash": "f9532894"
   },
   "outputs": [
    {
     "data": {
      "text/plain": [
       "<matplotlib.legend.Legend at 0x7f143dc10e90>"
      ]
     },
     "execution_count": 97,
     "metadata": {},
     "output_type": "execute_result"
    },
    {
     "data": {
      "image/png": "[encoded data removed]",
      "text/plain": [
       "<Figure size 1152x576 with 1 Axes>"
      ]
     },
     "metadata": {
      "image/png": {
       "height": 468,
       "width": 941
      }
     },
     "output_type": "display_data"
    }
   ],
   "source": [
    "# Plot graph to show predicted values and actual values\n",
    "\n",
    "testB = pd.DataFrame({'Predicted value':y_test_pred2B, 'Actual value':y_test2})\n",
    "fig = plt.figure(figsize=(16,8))\n",
    "testB = testB.reset_index()\n",
    "testB = testB.drop(['index'],axis=1)\n",
    "plt.plot(testB[:50])\n",
    "plt.legend(['Actual value','Predicted value'])"
   ]
  },
  {
   "cell_type": "markdown",
   "metadata": {
    "created_in_deepnote_cell": true,
    "deepnote_cell_type": "markdown",
    "tags": []
   },
   "source": [
    "<a style='text-decoration:none;line-height:16px;display:flex;color:#5B5B62;padding:10px;justify-content:end;' href='https://deepnote.com?utm_source=created-in-deepnote-cell&projectId=909aa507-bb39-472e-a43e-27d0ba229cf0' target=\"_blank\">\n",
    "<img alt='Created in deepnote.com' style='display:inline;max-height:16px;margin:0px;margin-right:7.5px;' src='data:image/svg+xml;base64,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' > </img>\n",
    "Created in <span style='font-weight:600;margin-left:4px;'>Deepnote</span></a>"
   ]
  }
 ],
 "metadata": {
  "deepnote": {
   "is_reactive": false
  },
  "deepnote_execution_queue": [],
  "deepnote_notebook_id": "88499fdb-70fd-4ea5-8c96-5f2528f3d31b",
  "kernelspec": {
   "display_name": "Python 3 (ipykernel)",
   "language": "python",
   "name": "python3"
  },
  "language_info": {
   "codemirror_mode": {
    "name": "ipython",
    "version": 3
   },
   "file_extension": ".py",
   "mimetype": "text/x-python",
   "name": "python",
   "nbconvert_exporter": "python",
   "pygments_lexer": "ipython3",
   "version": "3.9.7"
  }
 },
 "nbformat": 4,
 "nbformat_minor": 2
}
